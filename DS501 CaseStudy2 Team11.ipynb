{
 "cells": [
  {
   "cell_type": "markdown",
   "metadata": {},
   "source": [
    "# Case Study 2 : Analyzing data from MovieLens\n",
    "\n",
    "** Due Date: Due Date: October 26, BEFORE the beginning of class at 6:00pm **\n",
    "\n",
    "**NOTE: There are always last minute issues submitting the case studies. DO NOT WAIT UNTIL THE LAST MINUTE!**\n",
    "\n",
    "*------------"
   ]
  },
  {
   "cell_type": "markdown",
   "metadata": {},
   "source": [
    "## The MovieLens data sets\n",
    "\n",
    "<img src=\"https://pbs.twimg.com/profile_images/378800000380161537/b6fa868dce43807d4e67462587d0b0d2_400x400.png\">\n",
    "\n",
    "http://grouplens.org/datasets/movielens/\n",
    "\n"
   ]
  },
  {
   "cell_type": "code",
   "execution_count": 1,
   "metadata": {
    "collapsed": true
   },
   "outputs": [],
   "source": [
    "from IPython.lib.display import YouTubeVideo"
   ]
  },
  {
   "cell_type": "code",
   "execution_count": 3,
   "metadata": {
    "scrolled": true
   },
   "outputs": [
    {
     "data": {
      "image/jpeg": "[encoded data removed]",
      "text/html": [
       "\n",
       "        <iframe\n",
       "            width=\"400\"\n",
       "            height=\"300\"\n",
       "            src=\"https://www.youtube.com/embed/4tW9HY0Q460\"\n",
       "            frameborder=\"0\"\n",
       "            allowfullscreen\n",
       "        ></iframe>\n",
       "        "
      ],
      "text/plain": [
       "<IPython.lib.display.YouTubeVideo at 0x10e088b70>"
      ]
     },
     "execution_count": 3,
     "metadata": {},
     "output_type": "execute_result"
    }
   ],
   "source": [
    "YouTubeVideo('4tW9HY0Q460')"
   ]
  },
  {
   "cell_type": "markdown",
   "metadata": {},
   "source": [
    "**TEAM Members:** Please EDIT this cell and add the names of all the team members in your team\n",
    "\n",
    "Zhenyu Hu\n",
    "\n",
    "Ruochen Shi\n",
    "\n",
    "Mengdi Li\n",
    "\n",
    "Yenchang Hsieh\n",
    "\n",
    "Rui Li"
   ]
  },
  {
   "cell_type": "markdown",
   "metadata": {},
   "source": [
    "**Desired outcome of the case study.**\n",
    "* In this case study we will look at the MovieLens 1M Data Set.\n",
    "    * It contains data about users and how the rate movies.\n",
    "* The idea is to *analyze* the data set, make *conjectures*, support or refute those conjectures with *data*, and *tell a story* about the data!\n",
    "    \n",
    "**Required Readings:** \n",
    "* Chapter 2 (only the section on the MovieLens 1M Data Set), Chapter 5, Chapter 6,\n",
    "and Chapter 8 of the book [Python for Data Analysis](http://shop.oreilly.com/product/0636920023784.do)  (available from the WPI library as an e-book).\n",
    "* If you want your code to be really compact then you might want to also look into the pivot_table method of Panda's DataFrame, though there are many other ways to complete the case study!\n",
    "\n",
    "**Case study assumptions:**\n",
    "* You have access to a Python installation\n",
    "\n",
    "**Required Python libraries:**\n",
    "* Pandas (pandas.pydata.org)\n",
    "* Matplotlib (matplotlib.org)\n",
    "* If you need help installing them then you can refer to the Anaconda documentation of Chapter 1 of Python for Data Analysis book above \n",
    "\n",
    "** NOTE **\n",
    "* Please don't forget to save the notebook frequently when working in IPython Notebook, otherwise the changes you made can be lost.\n",
    "\n",
    "*----------------------"
   ]
  },
  {
   "cell_type": "markdown",
   "metadata": {},
   "source": [
    "# Problem 1 (20 points total): \n",
    "\n",
    "## (10 points) Importing the MovieLens data set and merging it into a single Pandas DataFrame"
   ]
  },
  {
   "cell_type": "markdown",
   "metadata": {},
   "source": [
    "* Download the 1 million ratings data set from http://grouplens.org/datasets/movielens/ (though if you are feeling adventerous you can download the 10 million ratings file instead)\n",
    "* Merge all of the data into a single Pandas DataFrame\n",
    "* Store the data into an HDF5 file.\n",
    "\n",
    "## (10 points) Report some basic details of the data you collected.  For example:\n",
    "\n",
    "*  How many movies have an average rating over 4.5 overall?\n",
    "*  How many movies have an average rating over 4.5 among men?  How about women?\n",
    "*  How many movies have an *median* rating over 4.5 among men over age 30?  How about women over age 30?\n",
    "*  What are the ten most popular movies?\n",
    "    * Choose what you consider to be a reasonable defintion of \"popular\".\n",
    "    * Be perpared to defend this choice.\n",
    "*  Make some conjectures about how easy various groups are to please? Support your answers with data!  \n",
    "    *  For example, one might conjecture that people between the ages of 1 and 10 are the easiest to please since they are all young children.  This conjecture may or may not be true, but how would you support or disprove either conclusion with with data?\n",
    "    *  Be sure to come up with your own conjectures and support them with data!\n"
   ]
  },
  {
   "cell_type": "code",
   "execution_count": 3,
   "metadata": {
    "scrolled": true
   },
   "outputs": [
    {
     "name": "stdout",
     "output_type": "stream",
     "text": [
      "Complete merge\n",
      "moveis: (3883, 3)\n",
      "user: (6040, 5)\n",
      "rate: (1000209, 4)\n",
      "total set: (1000209, 10)\n",
      "         MovieID                                              Title  \\\n",
      "0              1                                   Toy Story (1995)   \n",
      "1             48                                  Pocahontas (1995)   \n",
      "2            150                                   Apollo 13 (1995)   \n",
      "3            260          Star Wars: Episode IV - A New Hope (1977)   \n",
      "4            527                            Schindler's List (1993)   \n",
      "5            531                          Secret Garden, The (1993)   \n",
      "6            588                                     Aladdin (1992)   \n",
      "7            594             Snow White and the Seven Dwarfs (1937)   \n",
      "8            595                        Beauty and the Beast (1991)   \n",
      "9            608                                       Fargo (1996)   \n",
      "10           661                   James and the Giant Peach (1996)   \n",
      "11           720  Wallace & Gromit: The Best of Aardman Animatio...   \n",
      "12           745                              Close Shave, A (1995)   \n",
      "13           783                Hunchback of Notre Dame, The (1996)   \n",
      "14           914                                My Fair Lady (1964)   \n",
      "15           919                           Wizard of Oz, The (1939)   \n",
      "16           938                                        Gigi (1958)   \n",
      "17          1022                                  Cinderella (1950)   \n",
      "18          1028                                Mary Poppins (1964)   \n",
      "19          1029                                       Dumbo (1941)   \n",
      "20          1035                         Sound of Music, The (1965)   \n",
      "21          1097                  E.T. the Extra-Terrestrial (1982)   \n",
      "22          1193             One Flew Over the Cuckoo's Nest (1975)   \n",
      "23          1197                         Princess Bride, The (1987)   \n",
      "24          1207                       To Kill a Mockingbird (1962)   \n",
      "25          1246                          Dead Poets Society (1989)   \n",
      "26          1270                          Back to the Future (1985)   \n",
      "27          1287                                     Ben-Hur (1959)   \n",
      "28          1545                                     Ponette (1996)   \n",
      "29          1566                                    Hercules (1997)   \n",
      "...          ...                                                ...   \n",
      "1000179     2763                    Thomas Crown Affair, The (1999)   \n",
      "1000180     2770                                   Bowfinger (1999)   \n",
      "1000181     2805                            Mickey Blue Eyes (1999)   \n",
      "1000182     2827                       Astronaut's Wife, The (1999)   \n",
      "1000183     2840                                    Stigmata (1999)   \n",
      "1000184     2841                              Stir of Echoes (1999)   \n",
      "1000185     2858                             American Beauty (1999)   \n",
      "1000186     2881                             Double Jeopardy (1999)   \n",
      "1000187     2907                                   Superstar (1999)   \n",
      "1000188     3005                         Bone Collector, The (1999)   \n",
      "1000189     3053    Messenger: The Story of Joan of Arc, The (1999)   \n",
      "1000190     3081                               Sleepy Hollow (1999)   \n",
      "1000191     3113                                 End of Days (1999)   \n",
      "1000192     3114                                 Toy Story 2 (1999)   \n",
      "1000193     3176                    Talented Mr. Ripley, The (1999)   \n",
      "1000194     3177                                 Next Friday (1999)   \n",
      "1000195     3273                                    Scream 3 (2000)   \n",
      "1000196     3301                       Whole Nine Yards, The (2000)   \n",
      "1000197     3316                              Reindeer Games (2000)   \n",
      "1000198     3317                                 Wonder Boys (2000)   \n",
      "1000199     3408                             Erin Brockovich (2000)   \n",
      "1000200     3409                           Final Destination (2000)   \n",
      "1000201     3481                               High Fidelity (2000)   \n",
      "1000202     3483                      Road to El Dorado, The (2000)   \n",
      "1000203     3484                                 Skulls, The (2000)   \n",
      "1000204     3513                         Rules of Engagement (2000)   \n",
      "1000205     3535                             American Psycho (2000)   \n",
      "1000206     3536                           Keeping the Faith (2000)   \n",
      "1000207     3555                                       U-571 (2000)   \n",
      "1000208     3578                                   Gladiator (2000)   \n",
      "\n",
      "                                                Genres  UserID  Rating  \\\n",
      "0                          Animation|Children's|Comedy       1       5   \n",
      "1                 Animation|Children's|Musical|Romance       1       5   \n",
      "2                                                Drama       1       5   \n",
      "3                      Action|Adventure|Fantasy|Sci-Fi       1       4   \n",
      "4                                            Drama|War       1       5   \n",
      "5                                     Children's|Drama       1       4   \n",
      "6                  Animation|Children's|Comedy|Musical       1       4   \n",
      "7                         Animation|Children's|Musical       1       4   \n",
      "8                         Animation|Children's|Musical       1       5   \n",
      "9                                 Crime|Drama|Thriller       1       4   \n",
      "10                        Animation|Children's|Musical       1       3   \n",
      "11                                           Animation       1       3   \n",
      "12                           Animation|Comedy|Thriller       1       3   \n",
      "13                        Animation|Children's|Musical       1       4   \n",
      "14                                     Musical|Romance       1       3   \n",
      "15                  Adventure|Children's|Drama|Musical       1       4   \n",
      "16                                             Musical       1       4   \n",
      "17                        Animation|Children's|Musical       1       5   \n",
      "18                           Children's|Comedy|Musical       1       5   \n",
      "19                        Animation|Children's|Musical       1       5   \n",
      "20                                             Musical       1       5   \n",
      "21                     Children's|Drama|Fantasy|Sci-Fi       1       4   \n",
      "22                                               Drama       1       5   \n",
      "23                     Action|Adventure|Comedy|Romance       1       3   \n",
      "24                                               Drama       1       4   \n",
      "25                                               Drama       1       4   \n",
      "26                                       Comedy|Sci-Fi       1       5   \n",
      "27                              Action|Adventure|Drama       1       5   \n",
      "28                                               Drama       1       4   \n",
      "29       Adventure|Animation|Children's|Comedy|Musical       1       4   \n",
      "...                                                ...     ...     ...   \n",
      "1000179                                Action|Thriller    5727       5   \n",
      "1000180                                         Comedy    5727       4   \n",
      "1000181                                 Comedy|Romance    5727       4   \n",
      "1000182                                Sci-Fi|Thriller    5727       2   \n",
      "1000183                                       Thriller    5727       3   \n",
      "1000184                                       Thriller    5727       2   \n",
      "1000185                                   Comedy|Drama    5727       5   \n",
      "1000186                                Action|Thriller    5727       3   \n",
      "1000187                                         Comedy    5727       1   \n",
      "1000188                                       Thriller    5727       2   \n",
      "1000189                                      Drama|War    5727       3   \n",
      "1000190                                 Horror|Romance    5727       4   \n",
      "1000191                                Action|Thriller    5727       3   \n",
      "1000192                    Animation|Children's|Comedy    5727       5   \n",
      "1000193                         Drama|Mystery|Thriller    5727       3   \n",
      "1000194                                         Comedy    5727       1   \n",
      "1000195                        Horror|Mystery|Thriller    5727       4   \n",
      "1000196                                   Comedy|Crime    5727       5   \n",
      "1000197                                Action|Thriller    5727       3   \n",
      "1000198                                   Comedy|Drama    5727       4   \n",
      "1000199                                          Drama    5727       5   \n",
      "1000200                                 Drama|Thriller    5727       4   \n",
      "1000201                                         Comedy    5727       4   \n",
      "1000202                           Animation|Children's    5727       3   \n",
      "1000203                                       Thriller    5727       1   \n",
      "1000204                                 Drama|Thriller    5727       4   \n",
      "1000205                         Comedy|Horror|Thriller    5727       2   \n",
      "1000206                                 Comedy|Romance    5727       5   \n",
      "1000207                                Action|Thriller    5727       3   \n",
      "1000208                                   Action|Drama    5727       5   \n",
      "\n",
      "         Timestamp Gender  Age  Occupation Zip-code  Year  \n",
      "0        978824268      F    1          10    48067  1995  \n",
      "1        978824351      F    1          10    48067  1995  \n",
      "2        978301777      F    1          10    48067  1995  \n",
      "3        978300760      F    1          10    48067  1977  \n",
      "4        978824195      F    1          10    48067  1993  \n",
      "5        978302149      F    1          10    48067  1993  \n",
      "6        978824268      F    1          10    48067  1992  \n",
      "7        978302268      F    1          10    48067  1937  \n",
      "8        978824268      F    1          10    48067  1991  \n",
      "9        978301398      F    1          10    48067  1996  \n",
      "10       978302109      F    1          10    48067  1996  \n",
      "11       978300760      F    1          10    48067  1996  \n",
      "12       978824268      F    1          10    48067  1995  \n",
      "13       978824291      F    1          10    48067  1996  \n",
      "14       978301968      F    1          10    48067  1964  \n",
      "15       978301368      F    1          10    48067  1939  \n",
      "16       978301752      F    1          10    48067  1958  \n",
      "17       978300055      F    1          10    48067  1950  \n",
      "18       978301777      F    1          10    48067  1964  \n",
      "19       978302205      F    1          10    48067  1941  \n",
      "20       978301753      F    1          10    48067  1965  \n",
      "21       978301953      F    1          10    48067  1982  \n",
      "22       978300760      F    1          10    48067  1975  \n",
      "23       978302268      F    1          10    48067  1987  \n",
      "24       978300719      F    1          10    48067  1962  \n",
      "25       978302091      F    1          10    48067  1989  \n",
      "26       978300055      F    1          10    48067  1985  \n",
      "27       978302039      F    1          10    48067  1959  \n",
      "28       978824139      F    1          10    48067  1996  \n",
      "29       978824330      F    1          10    48067  1997  \n",
      "...            ...    ...  ...         ...      ...   ...  \n",
      "1000179  958492554      M   25           4    92843  1999  \n",
      "1000180  958490923      M   25           4    92843  1999  \n",
      "1000181  958492371      M   25           4    92843  1999  \n",
      "1000182  958490886      M   25           4    92843  1999  \n",
      "1000183  958492512      M   25           4    92843  1999  \n",
      "1000184  958492512      M   25           4    92843  1999  \n",
      "1000185  958490857      M   25           4    92843  1999  \n",
      "1000186  958490981      M   25           4    92843  1999  \n",
      "1000187  958492554      M   25           4    92843  1999  \n",
      "1000188  958490923      M   25           4    92843  1999  \n",
      "1000189  958492345      M   25           4    92843  1999  \n",
      "1000190  958492512      M   25           4    92843  1999  \n",
      "1000191  958490981      M   25           4    92843  1999  \n",
      "1000192  958492554      M   25           4    92843  1999  \n",
      "1000193  958492554      M   25           4    92843  1999  \n",
      "1000194  958489748      M   25           4    92843  1999  \n",
      "1000195  958492479      M   25           4    92843  2000  \n",
      "1000196  958490142      M   25           4    92843  2000  \n",
      "1000197  958490699      M   25           4    92843  2000  \n",
      "1000198  958489879      M   25           4    92843  2000  \n",
      "1000199  958489879      M   25           4    92843  2000  \n",
      "1000200  958490143      M   25           4    92843  2000  \n",
      "1000201  958489879      M   25           4    92843  2000  \n",
      "1000202  958490143      M   25           4    92843  2000  \n",
      "1000203  958489902      M   25           4    92843  2000  \n",
      "1000204  958489970      M   25           4    92843  2000  \n",
      "1000205  958489970      M   25           4    92843  2000  \n",
      "1000206  958489902      M   25           4    92843  2000  \n",
      "1000207  958490699      M   25           4    92843  2000  \n",
      "1000208  958490171      M   25           4    92843  2000  \n",
      "\n",
      "[1000209 rows x 11 columns]\n"
     ]
    }
   ],
   "source": [
    "\n",
    "\n",
    "#-------------------------------\n",
    "# Your code goes here.\n",
    "# Add as many cells as you need\n",
    "#-------------------------------\n",
    "import pandas as pd\n",
    "import numpy as np\n",
    "import pprint as pp\n",
    "column = ['MovieID','Title','Genres']\n",
    "movie = pd.read_csv('movies.dat',sep='::',header=None, names=column, engine='python', encoding='latin_1')\n",
    "column = ['UserID','MovieID','Rating','Timestamp']\n",
    "rate = pd.read_csv('ratings.dat',sep='::', header=None, names=column, engine='python')\n",
    "column = ['UserID','Gender','Age','Occupation','Zip-code']\n",
    "user = pd.read_csv('users.dat',sep='::', header=None, names=column, engine='python')\n",
    "data = pd.merge(movie,rate,on=['MovieID'])\n",
    "data = pd.merge(data,user,on=['UserID'])\n",
    "print('Complete merge')\n",
    "print('moveis:',movie.shape)\n",
    "print('user:',user.shape)\n",
    "print('rate:',rate.shape)\n",
    "print('total set:',data.shape)\n",
    "\n",
    "# add a new column called year\n",
    "year_series = [int(item.split('(')[-1].split(')')[0]) for item in data['Title']]\n",
    "data['Year'] = year_series\n",
    "store = pd.HDFStore('data.h5')\n",
    "store['data'] = data\n",
    "print(store['data'])"
   ]
  },
  {
   "cell_type": "code",
   "execution_count": 5,
   "metadata": {},
   "outputs": [
    {
     "name": "stdout",
     "output_type": "stream",
     "text": [
      "Title\n",
      "Gate of Heavenly Peace, The (1995)                                     5.000000\n",
      "Lured (1947)                                                           5.000000\n",
      "Ulysses (Ulisse) (1954)                                                5.000000\n",
      "Smashing Time (1967)                                                   5.000000\n",
      "Follow the Bitch (1998)                                                5.000000\n",
      "Song of Freedom (1936)                                                 5.000000\n",
      "Bittersweet Motel (2000)                                               5.000000\n",
      "Baby, The (1973)                                                       5.000000\n",
      "One Little Indian (1973)                                               5.000000\n",
      "Schlafes Bruder (Brother of Sleep) (1995)                              5.000000\n",
      "I Am Cuba (Soy Cuba/Ya Kuba) (1964)                                    4.800000\n",
      "Lamerica (1994)                                                        4.750000\n",
      "Apple, The (Sib) (1998)                                                4.666667\n",
      "Sanjuro (1962)                                                         4.608696\n",
      "Seven Samurai (The Magnificent Seven) (Shichinin no samurai) (1954)    4.560510\n",
      "Shawshank Redemption, The (1994)                                       4.554558\n",
      "Godfather, The (1972)                                                  4.524966\n",
      "Close Shave, A (1995)                                                  4.520548\n",
      "Usual Suspects, The (1995)                                             4.517106\n",
      "Schindler's List (1993)                                                4.510417\n",
      "Wrong Trousers, The (1993)                                             4.507937\n",
      "Name: Rating, dtype: float64\n",
      "Total: 21\n"
     ]
    }
   ],
   "source": [
    "# How many movies have an average rating over 4.5 overall?\n",
    "\n",
    "grouped = data.groupby('Title')\n",
    "rating = grouped['Rating'].aggregate(np.mean)\n",
    "rating = rating.sort_values(ascending=False)\n",
    "rating = rating.select(lambda x:rating[x]>4.5)\n",
    "pp.pprint(rating)\n",
    "print('Total:',len(rating))"
   ]
  },
  {
   "cell_type": "code",
   "execution_count": 11,
   "metadata": {},
   "outputs": [
    {
     "name": "stdout",
     "output_type": "stream",
     "text": [
      "Title\n",
      "Schlafes Bruder (Brother of Sleep) (1995)                              5.000000\n",
      "Ulysses (Ulisse) (1954)                                                5.000000\n",
      "Lured (1947)                                                           5.000000\n",
      "Follow the Bitch (1998)                                                5.000000\n",
      "Angela (1995)                                                          5.000000\n",
      "Small Wonders (1996)                                                   5.000000\n",
      "Baby, The (1973)                                                       5.000000\n",
      "Smashing Time (1967)                                                   5.000000\n",
      "Gate of Heavenly Peace, The (1995)                                     5.000000\n",
      "Dangerous Game (1993)                                                  5.000000\n",
      "Bells, The (1926)                                                      5.000000\n",
      "Time of the Gypsies (Dom za vesanje) (1989)                            4.833333\n",
      "I Am Cuba (Soy Cuba/Ya Kuba) (1964)                                    4.750000\n",
      "Window to Paris (1994)                                                 4.666667\n",
      "Lamerica (1994)                                                        4.666667\n",
      "Sanjuro (1962)                                                         4.639344\n",
      "Apple, The (Sib) (1998)                                                4.600000\n",
      "Godfather, The (1972)                                                  4.583333\n",
      "For All Mankind (1989)                                                 4.583333\n",
      "Seven Samurai (The Magnificent Seven) (Shichinin no samurai) (1954)    4.576628\n",
      "Shawshank Redemption, The (1994)                                       4.560625\n",
      "Raiders of the Lost Ark (1981)                                         4.520597\n",
      "Usual Suspects, The (1995)                                             4.518248\n",
      "Name: Rating, dtype: float64\n",
      "Total: 23\n"
     ]
    }
   ],
   "source": [
    "# How many movies have an average rating over 4.5 among men?\n",
    "\n",
    "male_data = data[data.Gender != 'F']\n",
    "grouped = male_data.groupby('Title')\n",
    "rating = grouped['Rating'].aggregate(np.mean)\n",
    "rating = rating.sort_values(ascending=False)\n",
    "rating = rating.select(lambda x:rating[x]>4.5)\n",
    "pp.pprint(rating)\n",
    "print('Total:',len(rating))"
   ]
  },
  {
   "cell_type": "code",
   "execution_count": 12,
   "metadata": {},
   "outputs": [
    {
     "name": "stdout",
     "output_type": "stream",
     "text": [
      "Title\n",
      "Lamerica (1994)                                            5.000000\n",
      "Brother, Can You Spare a Dime? (1975)                      5.000000\n",
      "Other Side of Sunday, The (Søndagsengler) (1996)           5.000000\n",
      "Ayn Rand: A Sense of Life (1997)                           5.000000\n",
      "For the Moment (1994)                                      5.000000\n",
      "Country Life (1994)                                        5.000000\n",
      "Belly (1998)                                               5.000000\n",
      "Clean Slate (Coup de Torchon) (1981)                       5.000000\n",
      "Woman of Paris, A (1923)                                   5.000000\n",
      "Coldblooded (1995)                                         5.000000\n",
      "Ballad of Narayama, The (Narayama Bushiko) (1958)          5.000000\n",
      "Skipped Parts (2000)                                       5.000000\n",
      "Message to Love: The Isle of Wight Festival (1996)         5.000000\n",
      "Saltmen of Tibet, The (1997)                               5.000000\n",
      "Dancemaker (1998)                                          5.000000\n",
      "Battling Butler (1926)                                     5.000000\n",
      "One Little Indian (1973)                                   5.000000\n",
      "24 7: Twenty Four Seven (1997)                             5.000000\n",
      "Prisoner of the Mountains (Kavkazsky Plennik) (1996)       5.000000\n",
      "Raw Deal (1948)                                            5.000000\n",
      "Big Combo, The (1955)                                      5.000000\n",
      "I Am Cuba (Soy Cuba/Ya Kuba) (1964)                        5.000000\n",
      "Song of Freedom (1936)                                     5.000000\n",
      "Bittersweet Motel (2000)                                   5.000000\n",
      "Gambler, The (A Játékos) (1997)                            5.000000\n",
      "Twice Upon a Yesterday (1998)                              5.000000\n",
      "Gate of Heavenly Peace, The (1995)                         5.000000\n",
      "World of Apu, The (Apur Sansar) (1959)                     4.842105\n",
      "Hearts and Minds (1996)                                    4.833333\n",
      "Apple, The (Sib) (1998)                                    4.750000\n",
      "Rain (1932)                                                4.750000\n",
      "Marcello Mastroianni: I Remember Yes, I Remember (1997)    4.666667\n",
      "Among Giants (1998)                                        4.666667\n",
      "Panther (1995)                                             4.666667\n",
      "Aparajito (1956)                                           4.666667\n",
      "Close Shave, A (1995)                                      4.644444\n",
      "Firelight (1997)                                           4.600000\n",
      "Flower of My Secret, The (La Flor de Mi Secreto) (1995)    4.600000\n",
      "Before the Rain (Pred dozhdot) (1994)                      4.600000\n",
      "Wrong Trousers, The (1993)                                 4.588235\n",
      "General, The (1927)                                        4.575758\n",
      "Sunset Blvd. (a.k.a. Sunset Boulevard) (1950)              4.572650\n",
      "Pather Panchali (1955)                                     4.571429\n",
      "Wallace & Gromit: The Best of Aardman Animation (1996)     4.563107\n",
      "Schindler's List (1993)                                    4.562602\n",
      "Grand Illusion (Grande illusion, La) (1937)                4.560976\n",
      "Shawshank Redemption, The (1994)                           4.539075\n",
      "Grand Day Out, A (1992)                                    4.537879\n",
      "To Kill a Mockingbird (1962)                               4.536667\n",
      "Creature Comforts (1990)                                   4.513889\n",
      "Usual Suspects, The (1995)                                 4.513317\n",
      "Name: Rating, dtype: float64\n",
      "Total: 51\n"
     ]
    }
   ],
   "source": [
    "# How about women?\n",
    "\n",
    "female_data = data[data.Gender != 'M']\n",
    "grouped = female_data.groupby('Title')\n",
    "rating = grouped['Rating'].aggregate(np.mean)\n",
    "rating = rating.sort_values(ascending=False)\n",
    "rating = rating.select(lambda x:rating[x]>4.5)\n",
    "pp.pprint(rating)\n",
    "print('Total:',len(rating))"
   ]
  },
  {
   "cell_type": "code",
   "execution_count": 13,
   "metadata": {},
   "outputs": [
    {
     "name": "stdout",
     "output_type": "stream",
     "text": [
      "Title\n",
      "City Lights (1931)                                                             5.0\n",
      "Usual Suspects, The (1995)                                                     5.0\n",
      "It's a Wonderful Life (1946)                                                   5.0\n",
      "Time of the Gypsies (Dom za vesanje) (1989)                                    5.0\n",
      "Citizen Kane (1941)                                                            5.0\n",
      "Hearts and Minds (1996)                                                        5.0\n",
      "Wallace & Gromit: The Best of Aardman Animation (1996)                         5.0\n",
      "Silence of the Lambs, The (1991)                                               5.0\n",
      "Godfather, The (1972)                                                          5.0\n",
      "Godfather: Part II, The (1974)                                                 5.0\n",
      "Chushingura (1962)                                                             5.0\n",
      "Among Giants (1998)                                                            5.0\n",
      "Bells, The (1926)                                                              5.0\n",
      "Fargo (1996)                                                                   5.0\n",
      "North by Northwest (1959)                                                      5.0\n",
      "Window to Paris (1994)                                                         5.0\n",
      "See the Sea (Regarde la mer) (1997)                                            5.0\n",
      "Ed's Next Move (1996)                                                          5.0\n",
      "Chinatown (1974)                                                               5.0\n",
      "Lured (1947)                                                                   5.0\n",
      "Paralyzing Fear: The Story of Polio in America, A (1998)                       5.0\n",
      "Sunset Blvd. (a.k.a. Sunset Boulevard) (1950)                                  5.0\n",
      "42 Up (1998)                                                                   5.0\n",
      "All Quiet on the Western Front (1930)                                          5.0\n",
      "Creature Comforts (1990)                                                       5.0\n",
      "Gambler, The (A Játékos) (1997)                                                5.0\n",
      "One Flew Over the Cuckoo's Nest (1975)                                         5.0\n",
      "Pather Panchali (1955)                                                         5.0\n",
      "Sixth Sense, The (1999)                                                        5.0\n",
      "Close Shave, A (1995)                                                          5.0\n",
      "                                                                              ... \n",
      "Dr. Strangelove or: How I Learned to Stop Worrying and Love the Bomb (1963)    5.0\n",
      "Conformist, The (Il Conformista) (1970)                                        5.0\n",
      "Third Man, The (1949)                                                          5.0\n",
      "Palm Beach Story, The (1942)                                                   5.0\n",
      "Wrong Trousers, The (1993)                                                     5.0\n",
      "Yojimbo (1961)                                                                 5.0\n",
      "Star Wars: Episode IV - A New Hope (1977)                                      5.0\n",
      "Treasure of the Sierra Madre, The (1948)                                       5.0\n",
      "Casablanca (1942)                                                              5.0\n",
      "Angela (1995)                                                                  5.0\n",
      "Psycho (1960)                                                                  5.0\n",
      "Lawrence of Arabia (1962)                                                      5.0\n",
      "Raiders of the Lost Ark (1981)                                                 5.0\n",
      "Carmen (1984)                                                                  5.0\n",
      "Double Indemnity (1944)                                                        5.0\n",
      "Seven Chances (1925)                                                           5.0\n",
      "Vampyros Lesbos (Las Vampiras) (1970)                                          5.0\n",
      "Grateful Dead (1995)                                                           5.0\n",
      "Grand Illusion (Grande illusion, La) (1937)                                    5.0\n",
      "Wizard of Oz, The (1939)                                                       5.0\n",
      "Manon of the Spring (Manon des sources) (1986)                                 5.0\n",
      "To Kill a Mockingbird (1962)                                                   5.0\n",
      "Firelight (1997)                                                               5.0\n",
      "Shawshank Redemption, The (1994)                                               5.0\n",
      "Small Wonders (1996)                                                           5.0\n",
      "Rear Window (1954)                                                             5.0\n",
      "Smashing Time (1967)                                                           5.0\n",
      "To Live (Huozhe) (1994)                                                        5.0\n",
      "Jupiter's Wife (1994)                                                          5.0\n",
      "Seven Samurai (The Magnificent Seven) (Shichinin no samurai) (1954)            5.0\n",
      "Name: Rating, Length: 86, dtype: float64\n",
      "Total: 86\n"
     ]
    }
   ],
   "source": [
    "# How many movies have an median rating over 4.5 among men over age 30? \n",
    "\n",
    "male_data = data[data.Gender != 'F']\n",
    "male_data = male_data[male_data.Age > 30]\n",
    "grouped = male_data.groupby('Title')\n",
    "rating = grouped['Rating'].aggregate(np.median)\n",
    "rating = rating.sort_values(ascending=False)\n",
    "rating = rating.select(lambda x:rating[x]>4.5)\n",
    "pp.pprint(rating)\n",
    "print('Total:',len(rating))"
   ]
  },
  {
   "cell_type": "code",
   "execution_count": 14,
   "metadata": {},
   "outputs": [
    {
     "name": "stdout",
     "output_type": "stream",
     "text": [
      "Total: 149\n"
     ]
    }
   ],
   "source": [
    "# How about women over age 30?\n",
    "\n",
    "female_data = data[data.Gender != 'M']\n",
    "female_data = female_data[female_data.Age > 30]\n",
    "grouped = female_data.groupby('Title')\n",
    "rating = grouped['Rating'].aggregate(np.median)\n",
    "rating = rating.sort_values(ascending=False)\n",
    "rating = rating.select(lambda x:rating[x] > 4.5)\n",
    "print('Total:',len(rating))"
   ]
  },
  {
   "cell_type": "code",
   "execution_count": 15,
   "metadata": {},
   "outputs": [
    {
     "name": "stdout",
     "output_type": "stream",
     "text": [
      "Title\n",
      "American Beauty (1999)                                                   3428\n",
      "Star Wars: Episode IV - A New Hope (1977)                                2991\n",
      "Star Wars: Episode V - The Empire Strikes Back (1980)                    2990\n",
      "Star Wars: Episode VI - Return of the Jedi (1983)                        2883\n",
      "Jurassic Park (1993)                                                     2672\n",
      "Saving Private Ryan (1998)                                               2653\n",
      "Terminator 2: Judgment Day (1991)                                        2649\n",
      "Matrix, The (1999)                                                       2590\n",
      "Back to the Future (1985)                                                2583\n",
      "Silence of the Lambs, The (1991)                                         2578\n",
      "Men in Black (1997)                                                      2538\n",
      "Raiders of the Lost Ark (1981)                                           2514\n",
      "Fargo (1996)                                                             2513\n",
      "Sixth Sense, The (1999)                                                  2459\n",
      "Braveheart (1995)                                                        2443\n",
      "Shakespeare in Love (1998)                                               2369\n",
      "Princess Bride, The (1987)                                               2318\n",
      "Schindler's List (1993)                                                  2304\n",
      "L.A. Confidential (1997)                                                 2288\n",
      "Groundhog Day (1993)                                                     2278\n",
      "E.T. the Extra-Terrestrial (1982)                                        2269\n",
      "Star Wars: Episode I - The Phantom Menace (1999)                         2250\n",
      "Being John Malkovich (1999)                                              2241\n",
      "Shawshank Redemption, The (1994)                                         2227\n",
      "Godfather, The (1972)                                                    2223\n",
      "Forrest Gump (1994)                                                      2194\n",
      "Ghostbusters (1984)                                                      2181\n",
      "Pulp Fiction (1994)                                                      2171\n",
      "Terminator, The (1984)                                                   2098\n",
      "Toy Story (1995)                                                         2077\n",
      "                                                                         ... \n",
      "Last of the High Kings, The (a.k.a. Summer Fling) (1996)                    1\n",
      "Proposition, The (1998)                                                     1\n",
      "Alley Cats, The (1968)                                                      1\n",
      "Mouth to Mouth (Boca a boca) (1995)                                         1\n",
      "White Boys (1999)                                                           1\n",
      "One Man's Hero (1999)                                                       1\n",
      "Project Moon Base (1953)                                                    1\n",
      "An Unforgettable Summer (1994)                                              1\n",
      "Hungarian Fairy Tale, A (1987)                                              1\n",
      "Broken Vessels (1998)                                                       1\n",
      "Telling You (1998)                                                          1\n",
      "Little Indian, Big City (Un indien dans la ville) (1994)                    1\n",
      "Bye-Bye (1995)                                                              1\n",
      "Terror in a Texas Town (1958)                                               1\n",
      "Mascara (1999)                                                              1\n",
      "Ten Benny (1997)                                                            1\n",
      "Voyage to the Beginning of the World (1997)                                 1\n",
      "Waiting Game, The (2000)                                                    1\n",
      "Jar, The (Khomreh) (1992)                                                   1\n",
      "I Don't Want to Talk About It (De eso no se habla) (1993)                   1\n",
      "Open Season (1996)                                                          1\n",
      "Waltzes from Vienna (1933)                                                  1\n",
      "Tashunga (1995)                                                             1\n",
      "Even Dwarfs Started Small (Auch Zwerge haben klein angefangen) (1971)       1\n",
      "Target (1995)                                                               1\n",
      "Anna (1996)                                                                 1\n",
      "McCullochs, The (1975)                                                      1\n",
      "Shadows (Cienie) (1988)                                                     1\n",
      "Night Tide (1961)                                                           1\n",
      "Another Man's Poison (1952)                                                 1\n",
      "Name: UserID, Length: 3706, dtype: int64\n"
     ]
    }
   ],
   "source": [
    "# What are the ten most popular movies?\n",
    "# Choose what you consider to be a reasonable defintion of \"popular\".\n",
    "# Be perpared to defend this choice.\n",
    "\n",
    "# Popular: How many people watched the movie\n",
    "movie_watch_count = data.groupby('Title')['UserID'].nunique()\n",
    "movie_watch_count = movie_watch_count.sort_values(ascending=False)\n",
    "print(movie_watch_count)\n"
   ]
  },
  {
   "cell_type": "code",
   "execution_count": 29,
   "metadata": {
    "scrolled": true
   },
   "outputs": [
    {
     "name": "stdout",
     "output_type": "stream",
     "text": [
      "  Gender    Rating       std\n",
      "0      F  3.620366  1.111228\n",
      "1      M  3.568879  1.118724\n"
     ]
    },
    {
     "data": {
      "image/png": "[encoded data removed]",
      "text/plain": [
       "<matplotlib.figure.Figure at 0x11c20ffd0>"
      ]
     },
     "metadata": {},
     "output_type": "display_data"
    },
    {
     "name": "stdout",
     "output_type": "stream",
     "text": [
      "    Occupation    Rating       std\n",
      "13          13  3.781736  1.037604\n",
      "15          15  3.689774  1.066078\n",
      "6            6  3.661578  1.109623\n",
      "9            9  3.656589  1.033470\n",
      "3            3  3.656516  1.097272\n"
     ]
    },
    {
     "data": {
      "image/png": "[encoded data removed]",
      "text/plain": [
       "<matplotlib.figure.Figure at 0x121e502b0>"
      ]
     },
     "metadata": {},
     "output_type": "display_data"
    }
   ],
   "source": [
    "# Make some conjectures about how easy various groups are to please? Support your answers with data!\n",
    "# For example, one might conjecture that people between the ages of 1 and 10 are the easiest to please since they are all young children. \n",
    "# This conjecture may or may not be true,but how would you support or disprove either conclusion with with data?\n",
    "# Be sure to come up with your own conjectures and support them with data!\n",
    "#1.Compared with males, females are easier to please since they are more emotional.\n",
    "#2.The retired people are the easiest group to please since they are generally peaceful and do not want to mean to something. The reason they watch movie is just to kill time.\n",
    "\n",
    "\n",
    "import matplotlib.pyplot as plt\n",
    "\n",
    "occupation_rating = data.groupby(['Gender'])['Rating'].mean().reset_index()\n",
    "occupation_std = data.groupby(['Gender'])['Rating'].std().reset_index()\n",
    "occupation_std = occupation_std.rename(columns={'Rating':'std'}) \n",
    "occupation_data = pd.merge(occupation_rating,occupation_std,on=['Gender'])\n",
    "occupation_data = occupation_data.sort_values(by=['Rating'], ascending=[False])\n",
    "\n",
    "occupation_data = occupation_data[:2]\n",
    "print(occupation_data)\n",
    "plt.errorbar(occupation_data.index, occupation_data['Rating'], yerr=occupation_data['std'])\n",
    "plt.show()\n",
    "\n",
    "occupation_rating = data.groupby(['Occupation'])['Rating'].mean().reset_index()\n",
    "occupation_std = data.groupby(['Occupation'])['Rating'].std().reset_index()\n",
    "occupation_std = occupation_std.rename(columns={'Rating':'std'}) \n",
    "occupation_data = pd.merge(occupation_rating,occupation_std,on=['Occupation'])\n",
    "occupation_data = occupation_data.sort_values(by=['Rating'], ascending=[False])\n",
    "\n",
    "occupation_data = occupation_data[:5]\n",
    "print(occupation_data)\n",
    "plt.errorbar(occupation_data.index, occupation_data['Rating'], yerr=occupation_data['std'])\n",
    "plt.show()\n",
    "\n"
   ]
  },
  {
   "cell_type": "markdown",
   "metadata": {},
   "source": [
    "# Problem 2 (20 points total): Expand our investigation to histograms\n",
    "\n",
    "**An obvious issue with any inferences drawn from Problem 1 is that we did not consider how many times a movie was rated.** \n",
    "* (2 points) Plot a histogram of the ratings of all movies.\n",
    "* (2 points) Plot a histogram of the *number* of ratings each movie recieved.\n",
    "* (2 points) Plot a histogram of the *average rating* for each movie.\n",
    "* (6 points) Plot a histogram of the *average rating* for movies which are rated more than 100 times.\n",
    "    * What do you observe about the tails of the histogram where you use all the movies versus the one where you only use movies rated more than 100 times?\n",
    "    * Which highly rated movies would you trust are actually good?  Those rated more than 100 times or those rated less than 100 times?\n",
    "* (8 points) Make some conjectures about the distribution of ratings? Support your answers with data!  \n",
    "    *  For example, what age range do you think has more extreme ratings?  Do you think children are more or less likely to rate a movie 1 or 5?\n",
    "    *  Be sure to come up with your own conjectures and support them with data!"
   ]
  },
  {
   "cell_type": "code",
   "execution_count": 10,
   "metadata": {},
   "outputs": [
    {
     "data": {
      "image/png": "[encoded data removed]",
      "text/plain": [
       "<matplotlib.figure.Figure at 0x132dddf60>"
      ]
     },
     "metadata": {},
     "output_type": "display_data"
    }
   ],
   "source": [
    "#-------------------------------\n",
    "# Your code goes here.\n",
    "# Add as many cells as you need\n",
    "#-------------------------------\n",
    "import matplotlib.pyplot as plt\n",
    "#Plot a histogram of the ratings of all movies.\n",
    "\n",
    "plt.hist(data.Rating)\n",
    "plt.xlabel('Rate')\n",
    "plt.ylabel('Number of ratings')\n",
    "plt.show()"
   ]
  },
  {
   "cell_type": "code",
   "execution_count": 11,
   "metadata": {},
   "outputs": [
    {
     "data": {
      "image/png": "[encoded data removed]",
      "text/plain": [
       "<matplotlib.figure.Figure at 0x116c1cf28>"
      ]
     },
     "metadata": {},
     "output_type": "display_data"
    }
   ],
   "source": [
    "#Plot a histogram of the number of ratings each movie recieved.\n",
    "\n",
    "number_rate = data.groupby('Title').size()\n",
    "plt.hist(number_rate)\n",
    "plt.xlabel('Number of ratings')\n",
    "plt.ylabel('Number of movies')\n",
    "plt.show()"
   ]
  },
  {
   "cell_type": "code",
   "execution_count": 12,
   "metadata": {
    "scrolled": true
   },
   "outputs": [
    {
     "data": {
      "image/png": "[encoded data removed]",
      "text/plain": [
       "<matplotlib.figure.Figure at 0x116c10828>"
      ]
     },
     "metadata": {},
     "output_type": "display_data"
    }
   ],
   "source": [
    "#Plot a histogram of the average rating for each movie.\n",
    "\n",
    "group_rate = data.groupby('Title')\n",
    "mean_rate = group_rate['Rating'].aggregate(np.mean)\n",
    "plt.hist(mean_rate)\n",
    "plt.xlabel('Mean rate')\n",
    "plt.ylabel('Number of ratings')\n",
    "plt.show()"
   ]
  },
  {
   "cell_type": "code",
   "execution_count": 13,
   "metadata": {},
   "outputs": [
    {
     "data": {
      "image/png": "[encoded data removed]",
      "text/plain": [
       "<matplotlib.figure.Figure at 0x116c15828>"
      ]
     },
     "metadata": {},
     "output_type": "display_data"
    }
   ],
   "source": [
    "#Plot a histogram of the average rating for movies which are rated more than 100 times.\n",
    "\n",
    "active_titles = number_rate.index[number_rate > 100]\n",
    "mean_active_rate = mean_rate.loc[active_titles]\n",
    "plt.hist(mean_active_rate)\n",
    "plt.xlabel('Mean rate of active movies')\n",
    "plt.ylabel('Number of ratings of active movies')\n",
    "plt.show()"
   ]
  },
  {
   "cell_type": "code",
   "execution_count": 60,
   "metadata": {
    "scrolled": false
   },
   "outputs": [
    {
     "data": {
      "image/png": "[encoded data removed]",
      "text/plain": [
       "<matplotlib.figure.Figure at 0x11952d358>"
      ]
     },
     "metadata": {},
     "output_type": "display_data"
    },
    {
     "data": {
      "image/png": "[encoded data removed]",
      "text/plain": [
       "<matplotlib.figure.Figure at 0x119492d68>"
      ]
     },
     "metadata": {},
     "output_type": "display_data"
    },
    {
     "data": {
      "image/png": "[encoded data removed]",
      "text/plain": [
       "<matplotlib.figure.Figure at 0x11956b2b0>"
      ]
     },
     "metadata": {},
     "output_type": "display_data"
    },
    {
     "data": {
      "image/png": "[encoded data removed]",
      "text/plain": [
       "<matplotlib.figure.Figure at 0x1262d6518>"
      ]
     },
     "metadata": {},
     "output_type": "display_data"
    },
    {
     "data": {
      "image/png": "[encoded data removed]",
      "text/plain": [
       "<matplotlib.figure.Figure at 0x121f38a58>"
      ]
     },
     "metadata": {},
     "output_type": "display_data"
    },
    {
     "data": {
      "image/png": "[encoded data removed]",
      "text/plain": [
       "<matplotlib.figure.Figure at 0x119598128>"
      ]
     },
     "metadata": {},
     "output_type": "display_data"
    },
    {
     "data": {
      "image/png": "[encoded data removed]",
      "text/plain": [
       "<matplotlib.figure.Figure at 0x1262f6e48>"
      ]
     },
     "metadata": {},
     "output_type": "display_data"
    },
    {
     "data": {
      "image/png": "[encoded data removed]",
      "text/plain": [
       "<matplotlib.figure.Figure at 0x11b50cef0>"
      ]
     },
     "metadata": {},
     "output_type": "display_data"
    },
    {
     "data": {
      "image/png": "[encoded data removed]",
      "text/plain": [
       "<matplotlib.figure.Figure at 0x143227e80>"
      ]
     },
     "metadata": {},
     "output_type": "display_data"
    }
   ],
   "source": [
    "# Make some conjectures about the distribution of ratings? Support your answers with data!\n",
    "# For example, what age range do you think has more extreme ratings? \n",
    "# Do you think children are more or less likely to rate a movie 1 or 5?\n",
    "# Be sure to come up with your own conjectures and support them with data!\n",
    "\n",
    "plt.hist(data[data.Gender == 'M'].Rating, normed=1)\n",
    "plt.xlabel('Rate from Male')\n",
    "plt.ylabel('Proportion of ratings from Male')\n",
    "plt.show()\n",
    "\n",
    "plt.hist(data[data.Gender == 'F'].Rating, normed=1)\n",
    "plt.xlabel('Rate from Female')\n",
    "plt.ylabel('Proportion of ratings from Female')\n",
    "plt.show()\n",
    "\n",
    "\n",
    "plt.hist(data[data.Age == 1].Rating, normed=1)\n",
    "plt.xlabel('Rate from user with age under 18')\n",
    "plt.ylabel('Proportion of ratings')\n",
    "plt.show()\n",
    "\n",
    "plt.hist(data[data.Age == 18].Rating, normed=1)\n",
    "plt.xlabel('Rate from user with age 18-24')\n",
    "plt.ylabel('Proportion of ratings')\n",
    "plt.show()\n",
    "\n",
    "plt.hist(data[data.Age == 25].Rating, normed=1)\n",
    "plt.xlabel('Rate from user with age 25-34')\n",
    "plt.ylabel('Proportion of ratings')\n",
    "plt.show()\n",
    "\n",
    "plt.hist(data[data.Age == 35].Rating, normed=1)\n",
    "plt.xlabel('Rate from user with age 35-44')\n",
    "plt.ylabel('Proportion of ratings')\n",
    "plt.show()\n",
    "\n",
    "plt.hist(data[data.Age == 45].Rating, normed=1)\n",
    "plt.xlabel('Rate from user with age 45-49')\n",
    "plt.ylabel('Proportion of ratings')\n",
    "plt.show()\n",
    "\n",
    "plt.hist(data[data.Age == 50].Rating, normed=1)\n",
    "plt.xlabel('Rate from user with age 50-55')\n",
    "plt.ylabel('Proportion of ratings')\n",
    "plt.show()\n",
    "\n",
    "plt.hist(data[data.Age == 56].Rating, normed=1)\n",
    "plt.xlabel('Rate from user with age over 55')\n",
    "plt.ylabel('Proportion of ratings')\n",
    "plt.show()"
   ]
  },
  {
   "cell_type": "markdown",
   "metadata": {},
   "source": [
    "*------------------------\n",
    "\n",
    "# Problem 3: (20 points total)\n",
    "## Correlation:  Men versus women\n",
    "\n",
    "Let look more closely at the relationship between the pieces of data we have."
   ]
  },
  {
   "cell_type": "markdown",
   "metadata": {},
   "source": [
    "* (2 points) Make a scatter plot of men versus women and their mean rating for every movie.\n",
    "* (2 points) Make a scatter plot of men versus women and their mean rating for movies rated more than 200 times.\n",
    "* (6 points) Compute the *correlation coefficent* between the ratings of men and women.\n",
    "    * What do you observe?\n",
    "    * Are the ratings similiar or not? Support your answer with data!\n",
    "* (10 points) Conjecture under what circumstances the rating given by one gender can be used to predict the rating given by the other gender.\n",
    "    * For example, are men and women more similar when they are younger or older?\n",
    "    * Be sure to come up with your own conjectures and support them with data!"
   ]
  },
  {
   "cell_type": "code",
   "execution_count": 15,
   "metadata": {
    "scrolled": false
   },
   "outputs": [
    {
     "data": {
      "image/png": "[encoded data removed]",
      "text/plain": [
       "<matplotlib.figure.Figure at 0x116c3bcf8>"
      ]
     },
     "metadata": {},
     "output_type": "display_data"
    }
   ],
   "source": [
    "#-------------------------------\n",
    "# Your code goes here.\n",
    "# Add as many cells as you need\n",
    "#-------------------------------\n",
    "\n",
    "#Make a scatter plot of men versus women and their mean rating for every movie.\n",
    "import matplotlib.pyplot as plt\n",
    "mean_ratings = data.pivot_table('Rating',index='MovieID',columns='Gender', aggfunc='mean')\n",
    "tm = list(mean_ratings['M'].values) \n",
    "tf = list(mean_ratings['F'].values)\n",
    "plt.xlabel('Male')\n",
    "plt.ylabel('Female')\n",
    "plt.plot(tm, tf,'ro')\n",
    "plt.show()"
   ]
  },
  {
   "cell_type": "code",
   "execution_count": 16,
   "metadata": {},
   "outputs": [
    {
     "data": {
      "image/png": "[encoded data removed]",
      "text/plain": [
       "<matplotlib.figure.Figure at 0x109ed35c0>"
      ]
     },
     "metadata": {},
     "output_type": "display_data"
    }
   ],
   "source": [
    "#Make a scatter plot of men versus women and their mean rating for movies rated more than 200 times.\n",
    "\n",
    "ratings_by_title = data.groupby('MovieID').size()\n",
    "active_titles = ratings_by_title.index[ratings_by_title > 200]\n",
    "sub_mean_ratings = mean_ratings.loc[active_titles]\n",
    "sub_tm = list(sub_mean_ratings['M'].values) \n",
    "sub_tf = list(sub_mean_ratings['F'].values) \n",
    "plt.xlabel('Male')\n",
    "plt.ylabel('Female')\n",
    "plt.plot(sub_tm, sub_tf,'ro')\n",
    "plt.show()"
   ]
  },
  {
   "cell_type": "code",
   "execution_count": 17,
   "metadata": {},
   "outputs": [
    {
     "name": "stdout",
     "output_type": "stream",
     "text": [
      "Correlation for all men and women: \n",
      " Gender        F        M\n",
      "Gender                  \n",
      "F       1.00000  0.76319\n",
      "M       0.76319  1.00000\n",
      "\n",
      "Correlation for men and women whose rating more than 200 times: \n",
      " Gender         F         M\n",
      "Gender                    \n",
      "F       1.000000  0.918361\n",
      "M       0.918361  1.000000\n"
     ]
    }
   ],
   "source": [
    "#Compute the correlation coefficent between the ratings of men and women.\n",
    "\n",
    "\n",
    "print ('Correlation for all men and women: \\n',mean_ratings.corr())\n",
    "print ('\\nCorrelation for men and women whose rating more than 200 times: \\n',sub_mean_ratings.corr())"
   ]
  },
  {
   "cell_type": "code",
   "execution_count": 39,
   "metadata": {
    "collapsed": true
   },
   "outputs": [],
   "source": [
    "# Conjecture under what circumstances the rating given by one gender can be used to predict \n",
    "# the rating given by the other gender.\n",
    "# For example, are men and women more similar when they are younger or older?\n",
    "# Be sure to come up with your own conjectures and support them with data!\n"
   ]
  },
  {
   "cell_type": "code",
   "execution_count": 68,
   "metadata": {
    "scrolled": false
   },
   "outputs": [
    {
     "name": "stdout",
     "output_type": "stream",
     "text": [
      "Occupation: 0\n",
      "Gender         F         M\n",
      "Gender                    \n",
      "F       1.000000  0.578786\n",
      "M       0.578786  1.000000\n",
      "Occupation: 1\n",
      "Gender         F         M\n",
      "Gender                    \n",
      "F       1.000000  0.636358\n",
      "M       0.636358  1.000000\n",
      "Occupation: 2\n",
      "Gender         F         M\n",
      "Gender                    \n",
      "F       1.000000  0.472414\n",
      "M       0.472414  1.000000\n",
      "Occupation: 3\n",
      "Gender         F         M\n",
      "Gender                    \n",
      "F       1.000000  0.438775\n",
      "M       0.438775  1.000000\n",
      "Occupation: 4\n",
      "Gender         F         M\n",
      "Gender                    \n",
      "F       1.000000  0.572648\n",
      "M       0.572648  1.000000\n",
      "Occupation: 5\n",
      "Gender        F        M\n",
      "Gender                  \n",
      "F       1.00000  0.32981\n",
      "M       0.32981  1.00000\n",
      "Occupation: 6\n",
      "Gender         F         M\n",
      "Gender                    \n",
      "F       1.000000  0.518479\n",
      "M       0.518479  1.000000\n",
      "Occupation: 7\n",
      "Gender         F         M\n",
      "Gender                    \n",
      "F       1.000000  0.572696\n",
      "M       0.572696  1.000000\n",
      "Occupation: 8\n",
      "Gender         F         M\n",
      "Gender                    \n",
      "F       1.000000  0.275236\n",
      "M       0.275236  1.000000\n",
      "Occupation: 9\n",
      "Gender         F         M\n",
      "Gender                    \n",
      "F       1.000000  0.276577\n",
      "M       0.276577  1.000000\n",
      "Occupation: 10\n",
      "Gender         F         M\n",
      "Gender                    \n",
      "F       1.000000  0.330526\n",
      "M       0.330526  1.000000\n",
      "Occupation: 11\n",
      "Gender         F         M\n",
      "Gender                    \n",
      "F       1.000000  0.394056\n",
      "M       0.394056  1.000000\n",
      "Occupation: 12\n",
      "Gender         F         M\n",
      "Gender                    \n",
      "F       1.000000  0.450084\n",
      "M       0.450084  1.000000\n",
      "Occupation: 13\n",
      "Gender         F         M\n",
      "Gender                    \n",
      "F       1.000000  0.294298\n",
      "M       0.294298  1.000000\n",
      "Occupation: 14\n",
      "Gender         F         M\n",
      "Gender                    \n",
      "F       1.000000  0.533524\n",
      "M       0.533524  1.000000\n",
      "Occupation: 15\n",
      "Gender         F         M\n",
      "Gender                    \n",
      "F       1.000000  0.479621\n",
      "M       0.479621  1.000000\n",
      "Occupation: 16\n",
      "Gender         F         M\n",
      "Gender                    \n",
      "F       1.000000  0.468767\n",
      "M       0.468767  1.000000\n",
      "Occupation: 17\n",
      "Gender        F        M\n",
      "Gender                  \n",
      "F       1.00000  0.57945\n",
      "M       0.57945  1.00000\n",
      "Occupation: 18\n",
      "Gender         F         M\n",
      "Gender                    \n",
      "F       1.000000  0.276751\n",
      "M       0.276751  1.000000\n",
      "Occupation: 19\n",
      "Gender         F         M\n",
      "Gender                    \n",
      "F       1.000000  0.408122\n",
      "M       0.408122  1.000000\n",
      "Occupation: 20\n",
      "Gender        F        M\n",
      "Gender                  \n",
      "F       1.00000  0.60683\n",
      "M       0.60683  1.00000\n"
     ]
    }
   ],
   "source": [
    "occupations = data['Occupation'].unique()\n",
    "occupations.sort()\n",
    "\n",
    "\n",
    "for i in occupations:\n",
    "    occu_data = data[data.Occupation == i]\n",
    "    occu_mean_data = occu_data.pivot_table('Rating',index='MovieID',columns='Gender', aggfunc='mean')\n",
    "    print('Occupation: %d'%(i))\n",
    "    print(occu_mean_data.corr())"
   ]
  },
  {
   "cell_type": "markdown",
   "metadata": {},
   "source": [
    "*------------------------\n",
    "\n",
    "# Problem 4: (20 points total)\n",
    "## Open Ended Question:  Business Intelligence"
   ]
  },
  {
   "cell_type": "markdown",
   "metadata": {},
   "source": [
    "* Do any of your conjectures in Problems 1, 2, and 3 provide insights that a movie company might be interested in?\n",
    "* Propose a business question that you think this data can answer.\n",
    "* Suppose you are a Data Sciencetist at a movie company.  **Convince your boss that your conjecture is correct!**"
   ]
  },
  {
   "cell_type": "code",
   "execution_count": null,
   "metadata": {
    "collapsed": true
   },
   "outputs": [],
   "source": [
    "import sys\n",
    "import math\n",
    "from texttable import Texttable\n",
    "\n",
    "\n",
    "def getUserScoreDataStructure(rates):\n",
    "    userDict = {}\n",
    "    itemUser = {}\n",
    "    for k in rates:\n",
    "        user_rank = (k[1], k[2])\n",
    "        if k[0] in userDict:\n",
    "            userDict[k[0]].append(user_rank)\n",
    "        else:\n",
    "            userDict[k[0]] = [user_rank]\n",
    "\n",
    "        if k[1] in itemUser:\n",
    "            itemUser[k[1]].append(k[0])\n",
    "        else:\n",
    "            itemUser[k[1]] = [k[0]]\n",
    "    return userDict, itemUser\n",
    "\n",
    "def getNearestNeighbor(userId, userDict, itemUser):\n",
    "    neighbors = []\n",
    "    for item in userDict[userId]:\n",
    "        for neighbor in itemUser[item[0]]:\n",
    "            if neighbor != userId and neighbor not in neighbors:\n",
    "                neighbors.append(neighbor)\n",
    "    neighbors_dist = []\n",
    "    for neighbor in neighbors:\n",
    "        dist = getCosDist(userDict[userId], userDict[neighbor])\n",
    "        neighbors_dist.append([dist, neighbor])\n",
    "    neighbors_dist.sort(reverse = True)\n",
    "    return neighbors_dist\n",
    "\n",
    "def getCosDist(user1, user2):\n",
    "    sum_x = 0.0\n",
    "    sum_y = 0.0\n",
    "    sum_xy = 0.0\n",
    "    for key1 in user1:\n",
    "        for key2 in user2:\n",
    "            if key1[0] == key2[0]:\n",
    "                sum_x += key1[1] * key1[1]\n",
    "                sum_y += key2[1] * key2[1]\n",
    "                sum_xy += key1[1] * key2[1]\n",
    "    if sum_xy == 0.0:\n",
    "        return 0\n",
    "    demo = math.sqrt(sum_x * sum_y)\n",
    "    return sum_xy / demo\n",
    "\n",
    "def recommendByUserFC(userId, k = 5):\n",
    "    rates = rate.values.tolist()\n",
    "\n",
    "    userDict, itemUser = getUserScoreDataStructure(rates)\n",
    "\n",
    "    neighbors = getNearestNeighbor(userId, userDict, itemUser)[:5]\n",
    "\n",
    "    recommand_dict = {}\n",
    "    for neighbor in neighbors:\n",
    "        neighbor_user_id = neighbor[1]\n",
    "        movies = userDict[neighbor_user_id]\n",
    "        for movie in movies:\n",
    "            if movie[0] not in recommand_dict:\n",
    "                recommand_dict[movie[0]] = neighbor[0]\n",
    "            else:\n",
    "                recommand_dict[movie[0]] += neighbor[0]\n",
    "\n",
    "    recommand_list = []\n",
    "    for key in recommand_dict:\n",
    "        recommand_list.append([recommand_dict[key], key])\n",
    "    recommand_list.sort(reverse = True)\n",
    "    user_movies = [k[0] for k in userDict[userId]]\n",
    "    return [k[1] for k in recommand_list], user_movies, itemUser, neighbors\n",
    "\n",
    "def getMovies(fn):\n",
    "    contents = readFile(fn)\n",
    "    movies_info = {}\n",
    "    for movie in contents:\n",
    "        single_info = movie.split('::')\n",
    "        movies_info[int(single_info[0])] = single_info[1:]\n",
    "    return movies_info\n",
    "\n",
    "movies = movie.values.tolist()\n",
    "recommend_list, user_movie, items_movie, neighbors = recommendByUserFC(20,30)\n",
    "neighbors_id=[ i[1] for i in neighbors]\n",
    "table = Texttable()\n",
    "table.set_deco(Texttable.HEADER)\n",
    "table.set_cols_dtype(['t', 't'])\n",
    "table.set_cols_align([\"l\", \"l\"])\n",
    "rows=[]\n",
    "rows.append([u\"movie name\",u\"release\"])\n",
    "for movie_id in recommend_list[:20]:\n",
    "    from_user=[]\n",
    "    for user_id in items_movie[movie_id]:\n",
    "        if user_id in neighbors_id:\n",
    "            from_user.append(user_id)\n",
    "    rows.append([movies[movie_id][0],movies[movie_id][1]])\n",
    "table.add_rows(rows)\n",
    "print(table.draw())\n",
    "\n",
    "\n"
   ]
  },
  {
   "cell_type": "code",
   "execution_count": 12,
   "metadata": {},
   "outputs": [
    {
     "name": "stdout",
     "output_type": "stream",
     "text": [
      "         Genres  Rating\n",
      "0        Action  257457\n",
      "1     Adventure  133953\n",
      "2     Animation   43293\n",
      "3    Children's   72186\n",
      "4        Comedy  356580\n",
      "5         Crime   79541\n",
      "6   Documentary    7910\n",
      "7         Drama  354529\n",
      "8       Fantasy   36301\n",
      "9     Film-Noir   18261\n",
      "10       Horror   76386\n",
      "11      Musical   41533\n",
      "12      Mystery   40178\n",
      "13      Romance  147523\n",
      "14       Sci-Fi  157294\n",
      "15     Thriller  189680\n",
      "16          War   68527\n",
      "17      Western   20683\n"
     ]
    }
   ],
   "source": [
    "split_data = data\n",
    "split_data = split_data['Genres'].str.split('|', expand=True).stack().reset_index(level=0).set_index('level_0').rename(columns={0:'Genres'}).join(data.drop('Genres',1), how='left')\n",
    "rating_data = split_data.groupby(['Genres'])['Rating'].size().reset_index()\n",
    "\n",
    "print(rating_data)"
   ]
  },
  {
   "cell_type": "code",
   "execution_count": 154,
   "metadata": {
    "scrolled": true
   },
   "outputs": [
    {
     "data": {
      "text/html": [
       "<div>\n",
       "<style>\n",
       "    .dataframe thead tr:only-child th {\n",
       "        text-align: right;\n",
       "    }\n",
       "\n",
       "    .dataframe thead th {\n",
       "        text-align: left;\n",
       "    }\n",
       "\n",
       "    .dataframe tbody tr th {\n",
       "        vertical-align: top;\n",
       "    }\n",
       "</style>\n",
       "<table border=\"1\" class=\"dataframe\">\n",
       "  <thead>\n",
       "    <tr style=\"text-align: right;\">\n",
       "      <th></th>\n",
       "      <th>Rating_F</th>\n",
       "      <th>Rating_M</th>\n",
       "      <th>diff</th>\n",
       "    </tr>\n",
       "    <tr>\n",
       "      <th>Genres</th>\n",
       "      <th></th>\n",
       "      <th></th>\n",
       "      <th></th>\n",
       "    </tr>\n",
       "  </thead>\n",
       "  <tbody>\n",
       "    <tr>\n",
       "      <th>Action</th>\n",
       "      <td>3.490252</td>\n",
       "      <td>3.491386</td>\n",
       "      <td>0.001134</td>\n",
       "    </tr>\n",
       "    <tr>\n",
       "      <th>Adventure</th>\n",
       "      <td>3.512879</td>\n",
       "      <td>3.468125</td>\n",
       "      <td>0.044753</td>\n",
       "    </tr>\n",
       "    <tr>\n",
       "      <th>Animation</th>\n",
       "      <td>3.744702</td>\n",
       "      <td>3.661335</td>\n",
       "      <td>0.083367</td>\n",
       "    </tr>\n",
       "    <tr>\n",
       "      <th>Children's</th>\n",
       "      <td>3.572548</td>\n",
       "      <td>3.358961</td>\n",
       "      <td>0.213586</td>\n",
       "    </tr>\n",
       "    <tr>\n",
       "      <th>Comedy</th>\n",
       "      <td>3.571938</td>\n",
       "      <td>3.503667</td>\n",
       "      <td>0.068271</td>\n",
       "    </tr>\n",
       "    <tr>\n",
       "      <th>Crime</th>\n",
       "      <td>3.689332</td>\n",
       "      <td>3.713720</td>\n",
       "      <td>0.024388</td>\n",
       "    </tr>\n",
       "    <tr>\n",
       "      <th>Documentary</th>\n",
       "      <td>3.946392</td>\n",
       "      <td>3.928811</td>\n",
       "      <td>0.017581</td>\n",
       "    </tr>\n",
       "    <tr>\n",
       "      <th>Drama</th>\n",
       "      <td>3.765662</td>\n",
       "      <td>3.766589</td>\n",
       "      <td>0.000927</td>\n",
       "    </tr>\n",
       "    <tr>\n",
       "      <th>Fantasy</th>\n",
       "      <td>3.513076</td>\n",
       "      <td>3.426603</td>\n",
       "      <td>0.086473</td>\n",
       "    </tr>\n",
       "    <tr>\n",
       "      <th>Film-Noir</th>\n",
       "      <td>4.018087</td>\n",
       "      <td>4.092254</td>\n",
       "      <td>0.074167</td>\n",
       "    </tr>\n",
       "    <tr>\n",
       "      <th>Horror</th>\n",
       "      <td>3.202870</td>\n",
       "      <td>3.217891</td>\n",
       "      <td>0.015021</td>\n",
       "    </tr>\n",
       "    <tr>\n",
       "      <th>Musical</th>\n",
       "      <td>3.809108</td>\n",
       "      <td>3.596332</td>\n",
       "      <td>0.212775</td>\n",
       "    </tr>\n",
       "    <tr>\n",
       "      <th>Mystery</th>\n",
       "      <td>3.686548</td>\n",
       "      <td>3.662009</td>\n",
       "      <td>0.024539</td>\n",
       "    </tr>\n",
       "    <tr>\n",
       "      <th>Romance</th>\n",
       "      <td>3.673579</td>\n",
       "      <td>3.573262</td>\n",
       "      <td>0.100317</td>\n",
       "    </tr>\n",
       "    <tr>\n",
       "      <th>Sci-Fi</th>\n",
       "      <td>3.450255</td>\n",
       "      <td>3.469952</td>\n",
       "      <td>0.019697</td>\n",
       "    </tr>\n",
       "    <tr>\n",
       "      <th>Thriller</th>\n",
       "      <td>3.573360</td>\n",
       "      <td>3.569685</td>\n",
       "      <td>0.003675</td>\n",
       "    </tr>\n",
       "    <tr>\n",
       "      <th>War</th>\n",
       "      <td>3.893138</td>\n",
       "      <td>3.893375</td>\n",
       "      <td>0.000237</td>\n",
       "    </tr>\n",
       "    <tr>\n",
       "      <th>Western</th>\n",
       "      <td>3.551913</td>\n",
       "      <td>3.655120</td>\n",
       "      <td>0.103208</td>\n",
       "    </tr>\n",
       "  </tbody>\n",
       "</table>\n",
       "</div>"
      ],
      "text/plain": [
       "             Rating_F  Rating_M      diff\n",
       "Genres                                   \n",
       "Action       3.490252  3.491386  0.001134\n",
       "Adventure    3.512879  3.468125  0.044753\n",
       "Animation    3.744702  3.661335  0.083367\n",
       "Children's   3.572548  3.358961  0.213586\n",
       "Comedy       3.571938  3.503667  0.068271\n",
       "Crime        3.689332  3.713720  0.024388\n",
       "Documentary  3.946392  3.928811  0.017581\n",
       "Drama        3.765662  3.766589  0.000927\n",
       "Fantasy      3.513076  3.426603  0.086473\n",
       "Film-Noir    4.018087  4.092254  0.074167\n",
       "Horror       3.202870  3.217891  0.015021\n",
       "Musical      3.809108  3.596332  0.212775\n",
       "Mystery      3.686548  3.662009  0.024539\n",
       "Romance      3.673579  3.573262  0.100317\n",
       "Sci-Fi       3.450255  3.469952  0.019697\n",
       "Thriller     3.573360  3.569685  0.003675\n",
       "War          3.893138  3.893375  0.000237\n",
       "Western      3.551913  3.655120  0.103208"
      ]
     },
     "execution_count": 154,
     "metadata": {},
     "output_type": "execute_result"
    }
   ],
   "source": [
    "split_data = data['Genres'].str.split('|', expand=True).stack().reset_index(level=0).set_index('level_0').rename(columns={0:'Genres'}).join(data.drop('Genres',1), how='left')\n",
    "genres_data = split_data.groupby(['Genres','Gender'])['Rating'].mean().reset_index()\n",
    "male_data = genres_data[genres_data.Gender == 'M']\n",
    "female_data = genres_data[genres_data.Gender == 'F']\n",
    "gender_data = pd.merge(male_data,female_data,on=['Genres'],suffixes=('_M', '_F'))\n",
    "gender_data['diff'] = abs(gender_data['Rating_M']-gender_data['Rating_F'])\n",
    "gender_data = gender_data.sort_values('diff', ascending=False)\n",
    "\n",
    "pd.pivot_table(gender_data, index=['Genres'], values=['Rating_M','Rating_F','diff'])\n"
   ]
  },
  {
   "cell_type": "code",
   "execution_count": null,
   "metadata": {
    "collapsed": true
   },
   "outputs": [],
   "source": []
  },
  {
   "cell_type": "code",
   "execution_count": 7,
   "metadata": {
    "scrolled": false
   },
   "outputs": [
    {
     "name": "stdout",
     "output_type": "stream",
     "text": [
      "                                      Rating_F  Rating_M      diff\n",
      "Genres                                                            \n",
      "Action|War                            3.000000  3.003206  0.003206\n",
      "Action|Crime|Romance                  3.981419  3.972896  0.008523\n",
      "Action|Comedy|Drama                   3.606684  3.594928  0.011756\n",
      "Action                                3.367474  3.352991  0.014483\n",
      "Action|Adventure|Crime|Thriller       2.800000  2.781095  0.018905\n",
      "Action|Thriller                       3.510352  3.529345  0.018993\n",
      "Action|Adventure|Crime                2.942238  2.922397  0.019841\n",
      "Action|Sci-Fi                         3.195568  3.217363  0.021794\n",
      "Action|Romance|War                    3.795556  3.818667  0.023111\n",
      "Action|Adventure|Drama                3.249180  3.274290  0.025110\n",
      "Action|Adventure|Sci-Fi|Thriller|War  2.904762  2.933086  0.028324\n",
      "Action|Adventure                      3.701213  3.671115  0.030099\n",
      "Action|Romance|Thriller               3.295853  3.327915  0.032062\n",
      "Action|Children's|Fantasy             2.416185  2.383750  0.032435\n",
      "Action|Adventure|Thriller             3.392765  3.356207  0.036558\n",
      "Action|Mystery|Thriller               3.317308  3.355814  0.038506\n",
      "Action|Adventure|Romance|Thriller     3.056122  3.011840  0.044283\n",
      "Action|Adventure|Mystery              3.461140  3.415132  0.046008\n",
      "Action|Adventure|Comedy|Crime         3.175105  3.128633  0.046473\n",
      "Action|Adventure|Horror|Thriller      3.359606  3.312189  0.047417\n",
      "Action|Horror                         3.653165  3.603862  0.049302\n",
      "Action|Comedy|Western                 3.784832  3.735397  0.049436\n",
      "Action|Horror|Thriller                3.112000  3.168000  0.056000\n",
      "Action|Sci-Fi|Thriller|Western        3.371795  3.428315  0.056521\n",
      "Action|Adventure|Comedy               3.140878  3.083333  0.057544\n",
      "Action|Comedy|Sci-Fi|War              2.850575  2.910000  0.059425\n",
      "Action|Drama                          3.609319  3.549887  0.059432\n",
      "Action|Romance                        3.422280  3.360727  0.061553\n",
      "Action|Adventure|Sci-Fi               3.434015  3.371173  0.062841\n",
      "Action|Adventure|Sci-Fi|Thriller      3.294671  3.359670  0.064999\n",
      "Action|Comedy|Crime|Drama             3.608195  3.541820  0.066374\n",
      "Action|Comedy                         2.772652  2.841662  0.069010\n",
      "Action|Adventure|Western              3.042553  2.967655  0.074898\n",
      "Action|Adventure|Children's           1.250000  1.325000  0.075000\n",
      "Action|Mystery|Romance|Thriller       3.463542  3.387722  0.075820\n",
      "Action|Crime                          2.989899  3.068220  0.078321\n",
      "Action|Crime|Thriller                 3.442060  3.529390  0.087330\n",
      "Action|Drama|Sci-Fi|Thriller          3.088608  3.183175  0.094567\n",
      "Action|Crime|Sci-Fi                   3.099656  3.196464  0.096807\n",
      "Action|Adventure|Comedy|Sci-Fi        3.817844  3.719000  0.098844\n",
      "                                Rating_F  Rating_M      diff\n",
      "Genres                                                      \n",
      "Action|Crime|Romance            3.981419  3.972896  0.008523\n",
      "Action|Comedy|Drama             3.606684  3.594928  0.011756\n",
      "Action|Thriller                 3.510352  3.529345  0.018993\n",
      "Action|Romance|War              3.795556  3.818667  0.023111\n",
      "Action|Adventure                3.701213  3.671115  0.030099\n",
      "Action|Horror                   3.653165  3.603862  0.049302\n",
      "Action|Comedy|Western           3.784832  3.735397  0.049436\n",
      "Action|Drama                    3.609319  3.549887  0.059432\n",
      "Action|Comedy|Crime|Drama       3.608195  3.541820  0.066374\n",
      "Action|Adventure|Comedy|Sci-Fi  3.817844  3.719000  0.098844\n",
      "                                      Rating_F  Rating_M      diff\n",
      "Genres                                                            \n",
      "Action|Adventure|Crime|Thriller       2.800000  2.781095  0.018905\n",
      "Action|Adventure|Crime                2.942238  2.922397  0.019841\n",
      "Action|Adventure|Sci-Fi|Thriller|War  2.904762  2.933086  0.028324\n",
      "Action|Children's|Fantasy             2.416185  2.383750  0.032435\n",
      "Action|Comedy|Sci-Fi|War              2.850575  2.910000  0.059425\n",
      "Action|Comedy                         2.772652  2.841662  0.069010\n",
      "Action|Adventure|Children's           1.250000  1.325000  0.075000\n"
     ]
    }
   ],
   "source": [
    "action_data = data[data['Genres'].str.contains('Action')]\n",
    "genres_data = action_data.groupby(['Genres','Gender'])['Rating'].mean().reset_index()\n",
    "male_data = genres_data[genres_data.Gender == 'M']\n",
    "female_data = genres_data[genres_data.Gender == 'F']\n",
    "gender_data = pd.merge(male_data,female_data,on=['Genres'],suffixes=('_M', '_F'))\n",
    "gender_data['diff'] = abs(gender_data['Rating_M']-gender_data['Rating_F'])\n",
    "gender_data = gender_data.sort_values('diff', ascending=True)[:40]\n",
    "data_pivot = pd.pivot_table(gender_data, index=['Genres'], values=['Rating_M','Rating_F','diff'])\n",
    "data_pivot = data_pivot.reindex(data_pivot['diff'].sort_values(ascending=True).index)\n",
    "print(data_pivot)\n",
    "\n",
    "greater_data_pivot = data_pivot[(data_pivot.Rating_F > 3.5) & (data_pivot.Rating_M > 3.5)]\n",
    "print(greater_data_pivot)\n",
    "\n",
    "less_data_pivot = data_pivot[(data_pivot.Rating_F < 3) & (data_pivot.Rating_M < 3)]\n",
    "print(less_data_pivot)"
   ]
  },
  {
   "cell_type": "markdown",
   "metadata": {},
   "source": [
    "# Report: communicate the results (20 points)\n",
    "\n",
    "(1) (5 points) What data you collected?\n",
    "\n",
    "(2) (5 points) Why this topic is interesting or important to you? (Motivations)\n",
    "\n",
    "(3) (5 points) How did you analyse the data?\n",
    "\n",
    "(4) (5 points) What did you find in the data?\n",
    "(please include figures or tables in the report, but no source code)"
   ]
  },
  {
   "cell_type": "markdown",
   "metadata": {},
   "source": [
    "# Slides (for 10 minutes of presentation) (20 points)\n",
    "\n",
    "\n",
    "1. (5 points) Motivation about the data collection, why the topic is interesting to you. \n",
    "\n",
    "2. (10 points) Communicating Results (figure/table)\n",
    "\n",
    "3. (5 points) Story telling (How all the parts (data, analysis, result) fit together as a story?)"
   ]
  },
  {
   "cell_type": "markdown",
   "metadata": {},
   "source": [
    "*-----------------\n",
    "# Done\n",
    "\n",
    "All set! \n",
    "\n",
    "** What do you need to submit?**\n",
    "\n",
    "* **Notebook File**: Save this IPython notebook, and find the notebook file in your folder (for example, \"filename.ipynb\"). This is the file you need to submit. Please make sure all the plotted tables and figures are in the notebook. If you used \"ipython notebook --pylab=inline\" to open the notebook, all the figures and tables should have shown up in the notebook.\n",
    "\n",
    "\n",
    "* **PPT Slides**: please prepare PPT slides (for 10 minutes' talk) to present about the case study . We will ask two teams which are randomly selected to present their case studies in class for this case study. \n",
    "\n",
    "* ** Report**: please prepare a report (less than 10 pages) to report what you found in the data.\n",
    "    * What is the relationship between this topic and Business Intelligence?\n",
    "    * How did you analyse the data?\n",
    "    * What did you find in the data? \n",
    "    * What conjectures did you make and how did you support or disprove them using data?\n",
    "    * Did you find anything suprising in the data?\n",
    "    * What business decision do you think this data could help answer?  Why?\n",
    "\n",
    "     (please include figures or tables in the report, **but no source code**)\n",
    "\n",
    "*----------------------\n",
    "Please compress all the files in a zipped file.\n",
    "\n",
    "\n",
    "** How to submit: **\n",
    "\n",
    "        Please submit through email to Prof. Paffenroth (rcpaffenroth@wpi.edu) *and* the TA Yingnan Liu (yliu18@wpi.edu).\n",
    "\n",
    "#### We auto-process the submissions so make sure your subject line is *exactly*:\n",
    "\n",
    "### DS501 Case Study 2 Team ??\n",
    "\n",
    "#### where ?? is your team number.\n",
    "        \n",
    "** Note: Each team just needs to submits one submission **"
   ]
  },
  {
   "cell_type": "code",
   "execution_count": null,
   "metadata": {
    "collapsed": true
   },
   "outputs": [],
   "source": []
  }
 ],
 "metadata": {
  "anaconda-cloud": {},
  "kernelspec": {
   "display_name": "Python 3",
   "language": "python",
   "name": "python3"
  },
  "language_info": {
   "codemirror_mode": {
    "name": "ipython",
    "version": 3
   },
   "file_extension": ".py",
   "mimetype": "text/x-python",
   "name": "python",
   "nbconvert_exporter": "python",
   "pygments_lexer": "ipython3",
   "version": "3.5.2"
  }
 },
 "nbformat": 4,
 "nbformat_minor": 1
}
