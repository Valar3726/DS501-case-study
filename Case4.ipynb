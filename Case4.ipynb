{
 "cells": [
  {
   "cell_type": "markdown",
   "metadata": {},
   "source": [
    "### Case Study 4 :  Data Science Shark Tank:  Pitch Your Ideas\n",
    "\n",
    "** Due Date: December 7, 6pm**\n",
    "BEFORE the beginning of class at 6:00pm\n",
    "NOTE: There are always last minute issues submitting the case studies. DO NOT WAIT UNTIL THE LAST MINUTE!\n",
    "\n",
    "<img src=\"https://cp.inkrefuge.com/images%5Cpressreleases/shark%20tank_large.jpg\" width=\"400px\"> "
   ]
  },
  {
   "cell_type": "markdown",
   "metadata": {},
   "source": [
    "After the previous 3 case studies,  your team is now equipped with the three powerful skills of data science: Hacking skill, Business skill and Math skill. In this project, your team is going to make use of these skills to come up with an idea of a new business/startup based upon data science technology. Your goal is to design a better service/solution on any data you like, develop a prototype/demo and prepare a pitch for your idea.\n",
    "* Your team needs to decide which business problem is important for the market you are joining in (for example, social media market, housing market, search market, etc.).\n",
    "* Then design a data science approach to improve one of the current services or design a new service on any data that you choose.\n",
    "* The solution should include all the three components of data science: 1) the business part to analyze the potential impact of your new/improved service, why the idea can make money, how much are you evaluating the company; How are you planing to persuade the sharks to invest in your business; 2) the mathematical part to formulate the problem and develop math solution; 3) the programming part to collect the data, implement the math solution, and develop the prototype/demo.\n",
    "* NOTE, as opposed to the first three case studies, case study 4 is much more open ended.  \n",
    "  * Business is the focus\n",
    "  * All three parts need to appear (Business, Computer Science, and Math)\n",
    "  * However, the precise balance is up to you."
   ]
  },
  {
   "cell_type": "markdown",
   "metadata": {},
   "source": [
    "# Background about Elevator Pitch (90 seconds) and Shark Tank"
   ]
  },
  {
   "cell_type": "code",
   "execution_count": null,
   "metadata": {
    "collapsed": true
   },
   "outputs": [],
   "source": [
    "from IPython.display import YouTubeVideo\n",
    "YouTubeVideo(\"3UuFR4Y4uw8\") "
   ]
  },
  {
   "cell_type": "code",
   "execution_count": null,
   "metadata": {
    "collapsed": true
   },
   "outputs": [],
   "source": [
    "YouTubeVideo(\"xIq8Sg59UdY\") "
   ]
  },
  {
   "cell_type": "markdown",
   "metadata": {},
   "source": [
    "### Two videos on storytelling"
   ]
  },
  {
   "cell_type": "markdown",
   "metadata": {},
   "source": [
    "https://video.wpi.edu/Watch/g2T4NjBn"
   ]
  },
  {
   "cell_type": "markdown",
   "metadata": {},
   "source": [
    "https://video.wpi.edu/Watch/q2A6Dbg3"
   ]
  },
  {
   "cell_type": "markdown",
   "metadata": {},
   "source": [
    "\n",
    "**Optional Readings:** \n",
    "* LinkedIn API: https://developer.linkedin.com/docs/rest-api\n",
    "* Zillow API: https://pypi.python.org/pypi/pyzillow\n",
    "* Google Map API: https://developers.google.com/api-client-library/python/apis/mapsengine/v1?hl=en\n",
    "* More APIs: https://github.com/ptwobrussell/Mining-the-Social-Web-2nd-Edition\n",
    "\n",
    "\n",
    "** Python libraries you may want to use:**\n",
    "* Scikit-learn (http://scikit-learn.org): machine learning tools in Python.\n",
    "\n",
    "** Data sources:**\n",
    "* UCI Machine Learning Repository: http://archive.ics.uci.edu/ml/ \n",
    "* Statlib datasets: http://lib.stat.cmu.edu/\n",
    "* Kaggel: www.kaggle.com \n",
    "* Open Gov. Data: www.data.gov, www.data.gov.uk, www.data.gov.fr, http://opengovernmentdata.org/data/catalogues/   \n",
    "\n",
    "** NOTE **\n",
    "* Please don't forget to save the notebook frequently when working in IPython Notebook, otherwise the changes you made can be lost.\n",
    "\n",
    "*----------------------"
   ]
  },
  {
   "cell_type": "markdown",
   "metadata": {},
   "source": [
    "### Problem 1: the Business Part (20 points)\n",
    " As a group, learn about the data science related business and research about the current markets: such as search, social media, advertisement, recommendation and so on.\n",
    "Pick one of the markets for further consideration, and design a new service  which you believe to be important in the market. \n",
    "Define precisely in the report and briefly in the cells below, what is the business problem that your team wants to solve.\n",
    "Why the problem is important to solve? \n",
    "Why you believe you could make a big difference with data science technology.\n",
    "How are you planing to persuade the investors to buy in your idea."
   ]
  },
  {
   "cell_type": "markdown",
   "metadata": {},
   "source": [
    "**Please describe here *briefly*  (please edit this cell)**\n",
    "\n",
    "1) Your business problem to solve:\n",
    "\n",
    "\n",
    "\n",
    "2) Why the problem is important to solve? \n",
    "\n",
    "\n",
    "3) What is your idea to solve the problem? \n",
    "\n",
    "\n",
    "4) What differences you could make with your data science approach?\n",
    "\n",
    "\n",
    "5) Why do you believe the idea deserves the investment of the \"sharks\"?\n",
    "\n",
    "\n",
    "\n",
    "\n"
   ]
  },
  {
   "cell_type": "markdown",
   "metadata": {},
   "source": [
    "#### 1) Your business problem to solve:\n",
    "For Amazon: Amazon sells enormous types of product so that they have to save all of goods into warehouse. And the inventory cost is very huge. The other goal is to find the most popular items for making more money. Once we can judge which one is good and most of people agrees, we can order more from producers and decrease the order quantity of bad product. <br><br>\n",
    "For customers:  How to make decisions correctly.  It is hard for customers to find some useful reviews among the existing reviews on Amazon, since the content of most reviews are highly overlapped. And the sort function only classifies reviews into positive and negative parts. If customer want to find some useful and specific reviews for a product, they have to look through many pages of reviews, which is of low efficiency and very time consuming. In the long run, it may reduce the loyalty of Amazon’s customers thanks to the bad shopping experiences. \n"
   ]
  },
  {
   "cell_type": "markdown",
   "metadata": {},
   "source": [
    "#### 2) Why the problem is important to solve?\n",
    "For Amazon: The appropriate arrangement of products can easily increase customer flow volume and sales volume.<br><br>\n",
    "For customers: This can enhance customer experience, and help customers make better choices. \n",
    "Hence, our model is here to help both the Amazon and the customers. \n"
   ]
  },
  {
   "cell_type": "markdown",
   "metadata": {},
   "source": [
    "#### 3) What is your idea to solve the problem?\n",
    "The total dataset size is 5680454 samples and we filter the sample by choosing the reviews whose HelpfulnessDenominator > 5. In the meantime, we use tfidf vectorizer to filter out terms with very high or low frequency. It can help us to find the reasonable relationship between the helpfulness attribute and words. We use logistic regression and k-means models to train the dataset. We show the correlation matrix and roc/auc curve to visualize the column’s connection and performance of model.<br><br>\n",
    "We build the foundation model to estimate whether Amazon should put this type of product online based on history reviews and comments. If Amazon wants to get some trustful product ’s information and speed up the process in cases, best way is to use a system that can automatically give the product estimation about whether this product should be put on shelf based on the past comments. If the case is within the range of the past, an estimation model can definitely enable the Amazon to reduce the time of purchasing useless products.\n"
   ]
  },
  {
   "cell_type": "markdown",
   "metadata": {},
   "source": [
    "#### 4) What differences you could make with your data science approach?\n",
    "Amazon filters the reviews according to their helpfulness and upgrades the level of reviews which are more helpful than others. So that customer can get these helpful reviews quickly and decide whether to buy the product."
   ]
  },
  {
   "cell_type": "markdown",
   "metadata": {},
   "source": [
    "#### 5) Why do you believe the idea deserves the investment of the \"sharks\"?\n",
    "It’s a win-win improvement for both Amazon and customers:\n",
    "\n",
    "In fact, this idea can  increase customer flow volume and sales volume, which means, for Amazon, they can earn more money after implementing this idea. \n",
    "\n",
    "Besides, for customers, the most important thing they care about is whether they should by this specific item. Almost all customers check reviews before they make final decisions, so the more helpful reviews means that they can trust more on the realness and effectiveness. \n"
   ]
  },
  {
   "cell_type": "markdown",
   "metadata": {},
   "source": [
    "### Problem 2: The Math Part (20 points)"
   ]
  },
  {
   "cell_type": "markdown",
   "metadata": {},
   "source": [
    "Define the business problem as a math problem and design a math solution to the problem.\n"
   ]
  },
  {
   "cell_type": "markdown",
   "metadata": {},
   "source": [
    "**Insert your answers here**\n",
    "\n",
    "\n",
    "1) Problem formulation in Math:\n",
    "\n",
    "\n",
    "\n",
    "\n",
    "2) Math Solution:\n",
    "\n",
    "\n",
    "\n",
    "\n",
    "\n",
    "\n",
    "3) Implementation of the Solution\n"
   ]
  },
  {
   "attachments": {
    "Screen%20Shot%202017-12-06%20at%2010.47.32%20PM.png": {
     "image/png": "[encoded data removed]"
    },
    "Screen%20Shot%202017-12-06%20at%2010.49.20%20PM.png": {
     "image/png": "[encoded data removed]"
    }
   },
   "cell_type": "markdown",
   "metadata": {},
   "source": [
    "#### 1) Problem formulation in Math:<br><br>\n",
    "\n",
    "**Logistic Regression**<br><br>\n",
    "Our goal to calculate prediction of reviews\n",
    "![Screen%20Shot%202017-12-06%20at%2010.47.32%20PM.png](attachment:Screen%20Shot%202017-12-06%20at%2010.47.32%20PM.png)\n",
    "\n",
    "*Next step is to find best logistic regression parameters<br><br>\n",
    "\n",
    "\n",
    "**K-Means**<br><br>\n",
    "*Our goal is to improve prediction of reviews with K-means clustering\n",
    "\n",
    "![Screen%20Shot%202017-12-06%20at%2010.49.20%20PM.png](attachment:Screen%20Shot%202017-12-06%20at%2010.49.20%20PM.png)"
   ]
  },
  {
   "cell_type": "markdown",
   "metadata": {},
   "source": [
    "#### 2) Math Solution:\n",
    "\n",
    "*We transform Helpfulness into a binary variable with 0.50 ratio, then make text feature extraction, set training set and learn vocabulary and idf from training set. \n",
    "*To improve prediction of reviews we use k-means clustering. We make 4 clusters, select top 10 words per clusters and add top words to train set.\n",
    "*Finally we do logistic regression to predict review helpfulness with top cluster words.\n"
   ]
  },
  {
   "cell_type": "markdown",
   "metadata": {},
   "source": [
    "#### 3) Implementation of the Solution"
   ]
  },
  {
   "cell_type": "markdown",
   "metadata": {},
   "source": [
    "### Problem 3: The Hacking Part  (20 points)\n"
   ]
  },
  {
   "cell_type": "markdown",
   "metadata": {},
   "source": [
    "* Data Collection\n",
    "* Implement a small Demo/Prototype/experiment result figures for the \"product\" of your data science company. You could use this demo during the Pitch"
   ]
  },
  {
   "cell_type": "markdown",
   "metadata": {},
   "source": [
    "## Access dataset from db"
   ]
  },
  {
   "cell_type": "code",
   "execution_count": 1,
   "metadata": {
    "collapsed": true
   },
   "outputs": [],
   "source": [
    "# import required packages\n",
    "import pandas as pd \n",
    "import numpy as np\n",
    "import sqlite3\n",
    "import matplotlib.pyplot as plt\n",
    "%matplotlib inline\n"
   ]
  },
  {
   "cell_type": "code",
   "execution_count": 2,
   "metadata": {
    "collapsed": true
   },
   "outputs": [],
   "source": [
    "# Read required columns from database\n",
    "con = sqlite3.connect('./database.sqlite')\n",
    "df = pd.read_sql_query(\"\"\"SELECT HelpfulnessNumerator, HelpfulnessDenominator, Score, Text FROM Reviews\"\"\", con)"
   ]
  },
  {
   "cell_type": "markdown",
   "metadata": {},
   "source": [
    "## Preprocessing dataset"
   ]
  },
  {
   "cell_type": "code",
   "execution_count": 4,
   "metadata": {},
   "outputs": [
    {
     "name": "stdout",
     "output_type": "stream",
     "text": [
      "Valid dataset size: 52643\n"
     ]
    }
   ],
   "source": [
    "# Retrives the reviews (# of reviewrs > 5)\n",
    "\n",
    "df.iloc[:,:3] = df.iloc[:,:3].apply(pd.to_numeric)\n",
    "df = df[(df.HelpfulnessDenominator > 5)]\n",
    "\n",
    "# Report the size of desired dataset \n",
    "print('Valid dataset size: ' + str(df.count()[0]))"
   ]
  },
  {
   "cell_type": "code",
   "execution_count": 8,
   "metadata": {},
   "outputs": [],
   "source": [
    "# Make all of reviews to be lowercase\n",
    "df.loc[:, 'Text'] = df['Text'].str.lower()\n",
    "\n",
    "# Remove all of punctuations\n",
    "import unicodedata\n",
    "import sys\n",
    "\n",
    "tbl = dict.fromkeys(i for i in range(sys.maxunicode)\n",
    "                      if unicodedata.category(chr(i)).startswith('P'))\n",
    "\n",
    "def remove_punctuation(text):\n",
    "    return text.translate(tbl)\n",
    "\n",
    "df['Text'] = df['Text'].apply(lambda x: remove_punctuation(x))"
   ]
  },
  {
   "cell_type": "code",
   "execution_count": 9,
   "metadata": {},
   "outputs": [
    {
     "data": {
      "text/html": [
       "<div>\n",
       "<style>\n",
       "    .dataframe thead tr:only-child th {\n",
       "        text-align: right;\n",
       "    }\n",
       "\n",
       "    .dataframe thead th {\n",
       "        text-align: left;\n",
       "    }\n",
       "\n",
       "    .dataframe tbody tr th {\n",
       "        vertical-align: top;\n",
       "    }\n",
       "</style>\n",
       "<table border=\"1\" class=\"dataframe\">\n",
       "  <thead>\n",
       "    <tr style=\"text-align: right;\">\n",
       "      <th></th>\n",
       "      <th>HelpfulnessNumerator</th>\n",
       "      <th>HelpfulnessDenominator</th>\n",
       "      <th>Score</th>\n",
       "      <th>Text</th>\n",
       "      <th>Helpful</th>\n",
       "    </tr>\n",
       "  </thead>\n",
       "  <tbody>\n",
       "    <tr>\n",
       "      <th>32</th>\n",
       "      <td>19</td>\n",
       "      <td>19</td>\n",
       "      <td>4</td>\n",
       "      <td>mccanns instant oatmeal is great if you must h...</td>\n",
       "      <td>1</td>\n",
       "    </tr>\n",
       "    <tr>\n",
       "      <th>33</th>\n",
       "      <td>13</td>\n",
       "      <td>13</td>\n",
       "      <td>4</td>\n",
       "      <td>this is a good instant oatmeal from the best o...</td>\n",
       "      <td>1</td>\n",
       "    </tr>\n",
       "    <tr>\n",
       "      <th>34</th>\n",
       "      <td>9</td>\n",
       "      <td>9</td>\n",
       "      <td>5</td>\n",
       "      <td>instant oatmeal can become soggy the minute th...</td>\n",
       "      <td>1</td>\n",
       "    </tr>\n",
       "  </tbody>\n",
       "</table>\n",
       "</div>"
      ],
      "text/plain": [
       "    HelpfulnessNumerator  HelpfulnessDenominator  Score  \\\n",
       "32                    19                      19      4   \n",
       "33                    13                      13      4   \n",
       "34                     9                       9      5   \n",
       "\n",
       "                                                 Text  Helpful  \n",
       "32  mccanns instant oatmeal is great if you must h...        1  \n",
       "33  this is a good instant oatmeal from the best o...        1  \n",
       "34  instant oatmeal can become soggy the minute th...        1  "
      ]
     },
     "execution_count": 9,
     "metadata": {},
     "output_type": "execute_result"
    }
   ],
   "source": [
    "# Calculate the ratio of HelpfulnessNumerator and HelpfulnessDenominator.\n",
    "# Assign the label value (> 0.5 : 1, <= 0.5: 0)\n",
    "df.loc[:, 'Helpful'] = np.where(df.loc[:, 'HelpfulnessNumerator'] / df.loc[:, 'HelpfulnessDenominator'] > 0.50, 1, 0)\n",
    "df.head(3)"
   ]
  },
  {
   "cell_type": "code",
   "execution_count": 10,
   "metadata": {},
   "outputs": [
    {
     "data": {
      "text/html": [
       "<div>\n",
       "<style>\n",
       "    .dataframe thead tr:only-child th {\n",
       "        text-align: right;\n",
       "    }\n",
       "\n",
       "    .dataframe thead th {\n",
       "        text-align: left;\n",
       "    }\n",
       "\n",
       "    .dataframe tbody tr th {\n",
       "        vertical-align: top;\n",
       "    }\n",
       "</style>\n",
       "<table border=\"1\" class=\"dataframe\">\n",
       "  <thead>\n",
       "    <tr style=\"text-align: right;\">\n",
       "      <th></th>\n",
       "      <th>HelpfulnessNumerator</th>\n",
       "      <th>HelpfulnessDenominator</th>\n",
       "      <th>Score</th>\n",
       "      <th>Text</th>\n",
       "    </tr>\n",
       "    <tr>\n",
       "      <th>Helpful</th>\n",
       "      <th></th>\n",
       "      <th></th>\n",
       "      <th></th>\n",
       "      <th></th>\n",
       "    </tr>\n",
       "  </thead>\n",
       "  <tbody>\n",
       "    <tr>\n",
       "      <th>0</th>\n",
       "      <td>11007</td>\n",
       "      <td>11007</td>\n",
       "      <td>11007</td>\n",
       "      <td>11007</td>\n",
       "    </tr>\n",
       "    <tr>\n",
       "      <th>1</th>\n",
       "      <td>41636</td>\n",
       "      <td>41636</td>\n",
       "      <td>41636</td>\n",
       "      <td>41636</td>\n",
       "    </tr>\n",
       "  </tbody>\n",
       "</table>\n",
       "</div>"
      ],
      "text/plain": [
       "         HelpfulnessNumerator  HelpfulnessDenominator  Score   Text\n",
       "Helpful                                                            \n",
       "0                       11007                   11007  11007  11007\n",
       "1                       41636                   41636  41636  41636"
      ]
     },
     "execution_count": 10,
     "metadata": {},
     "output_type": "execute_result"
    }
   ],
   "source": [
    "# Show the result of Helpfulness\n",
    "df.groupby('Helpful').count()"
   ]
  },
  {
   "cell_type": "code",
   "execution_count": 11,
   "metadata": {},
   "outputs": [
    {
     "data": {
      "text/html": [
       "<div>\n",
       "<style>\n",
       "    .dataframe thead tr:only-child th {\n",
       "        text-align: right;\n",
       "    }\n",
       "\n",
       "    .dataframe thead th {\n",
       "        text-align: left;\n",
       "    }\n",
       "\n",
       "    .dataframe tbody tr th {\n",
       "        vertical-align: top;\n",
       "    }\n",
       "</style>\n",
       "<table border=\"1\" class=\"dataframe\">\n",
       "  <thead>\n",
       "    <tr style=\"text-align: right;\">\n",
       "      <th></th>\n",
       "      <th>HelpfulnessNumerator</th>\n",
       "      <th>HelpfulnessDenominator</th>\n",
       "      <th>Score</th>\n",
       "      <th>Helpful</th>\n",
       "    </tr>\n",
       "  </thead>\n",
       "  <tbody>\n",
       "    <tr>\n",
       "      <th>HelpfulnessNumerator</th>\n",
       "      <td>1.000000</td>\n",
       "      <td>0.974445</td>\n",
       "      <td>0.105785</td>\n",
       "      <td>0.196062</td>\n",
       "    </tr>\n",
       "    <tr>\n",
       "      <th>HelpfulnessDenominator</th>\n",
       "      <td>0.974445</td>\n",
       "      <td>1.000000</td>\n",
       "      <td>0.012691</td>\n",
       "      <td>0.060754</td>\n",
       "    </tr>\n",
       "    <tr>\n",
       "      <th>Score</th>\n",
       "      <td>0.105785</td>\n",
       "      <td>0.012691</td>\n",
       "      <td>1.000000</td>\n",
       "      <td>0.458909</td>\n",
       "    </tr>\n",
       "    <tr>\n",
       "      <th>Helpful</th>\n",
       "      <td>0.196062</td>\n",
       "      <td>0.060754</td>\n",
       "      <td>0.458909</td>\n",
       "      <td>1.000000</td>\n",
       "    </tr>\n",
       "  </tbody>\n",
       "</table>\n",
       "</div>"
      ],
      "text/plain": [
       "                        HelpfulnessNumerator  HelpfulnessDenominator  \\\n",
       "HelpfulnessNumerator                1.000000                0.974445   \n",
       "HelpfulnessDenominator              0.974445                1.000000   \n",
       "Score                               0.105785                0.012691   \n",
       "Helpful                             0.196062                0.060754   \n",
       "\n",
       "                           Score   Helpful  \n",
       "HelpfulnessNumerator    0.105785  0.196062  \n",
       "HelpfulnessDenominator  0.012691  0.060754  \n",
       "Score                   1.000000  0.458909  \n",
       "Helpful                 0.458909  1.000000  "
      ]
     },
     "execution_count": 11,
     "metadata": {},
     "output_type": "execute_result"
    }
   ],
   "source": [
    "# show the correlation between two features\n",
    "df.corr()"
   ]
  },
  {
   "cell_type": "markdown",
   "metadata": {},
   "source": [
    "## Logistic Regression without K-mean optmization"
   ]
  },
  {
   "cell_type": "code",
   "execution_count": 13,
   "metadata": {
    "collapsed": true
   },
   "outputs": [],
   "source": [
    "# make a copy\n",
    "df1 = df.copy(deep = True)"
   ]
  },
  {
   "cell_type": "code",
   "execution_count": 16,
   "metadata": {},
   "outputs": [],
   "source": [
    "# tokenize text with Tfidf\n",
    "from sklearn.feature_extraction.text import TfidfVectorizer\n",
    "\n",
    "vectorizer = TfidfVectorizer(min_df = 0.1, max_df=0.9,\n",
    "                             ngram_range=(1, 4), \n",
    "                             stop_words='english')\n",
    "X_train = vectorizer.fit_transform(df1['Text'])"
   ]
  },
  {
   "cell_type": "code",
   "execution_count": 19,
   "metadata": {
    "scrolled": true
   },
   "outputs": [
    {
     "name": "stdout",
     "output_type": "stream",
     "text": [
      "['amazon', 'best', 'better', 'bought', 'br', 'br br', 'buy', 'coffee', 'dont', 'eat', 'flavor', 'food', 'good', 'great', 'im', 'ive', 'just', 'know', 'like', 'little', 'love', 'make', 'price', 'product', 'really', 'taste', 'think', 'time', 'tried', 'try', 'use', 'used', 'way']\n"
     ]
    }
   ],
   "source": [
    "# Show the feature names after tokenization\n",
    "vocab = vectorizer.get_feature_names()\n",
    "print(vocab)"
   ]
  },
  {
   "cell_type": "code",
   "execution_count": 20,
   "metadata": {},
   "outputs": [
    {
     "name": "stderr",
     "output_type": "stream",
     "text": [
      "/usr/local/lib/python3.6/site-packages/sklearn/cross_validation.py:41: DeprecationWarning: This module was deprecated in version 0.18 in favor of the model_selection module into which all the refactored classes and functions are moved. Also note that the interface of the new CV iterators are different from that of this module. This module will be removed in 0.20.\n",
      "  \"This module will be removed in 0.20.\", DeprecationWarning)\n",
      "/usr/local/lib/python3.6/site-packages/sklearn/grid_search.py:42: DeprecationWarning: This module was deprecated in version 0.18 in favor of the model_selection module into which all the refactored classes and functions are moved. This module will be removed in 0.20.\n",
      "  DeprecationWarning)\n"
     ]
    },
    {
     "data": {
      "text/plain": [
       "[mean: 0.68820, std: 0.01073, params: {'C': 100000, 'class_weight': None},\n",
       " mean: 0.68853, std: 0.01065, params: {'C': 100000, 'class_weight': 'balanced'},\n",
       " mean: 0.68820, std: 0.01073, params: {'C': 10000, 'class_weight': None},\n",
       " mean: 0.68853, std: 0.01065, params: {'C': 10000, 'class_weight': 'balanced'},\n",
       " mean: 0.68820, std: 0.01073, params: {'C': 1000, 'class_weight': None},\n",
       " mean: 0.68853, std: 0.01065, params: {'C': 1000, 'class_weight': 'balanced'},\n",
       " mean: 0.68820, std: 0.01073, params: {'C': 100, 'class_weight': None},\n",
       " mean: 0.68853, std: 0.01065, params: {'C': 100, 'class_weight': 'balanced'},\n",
       " mean: 0.68820, std: 0.01073, params: {'C': 10, 'class_weight': None},\n",
       " mean: 0.68853, std: 0.01065, params: {'C': 10, 'class_weight': 'balanced'},\n",
       " mean: 0.68820, std: 0.01076, params: {'C': 1, 'class_weight': None},\n",
       " mean: 0.68852, std: 0.01066, params: {'C': 1, 'class_weight': 'balanced'},\n",
       " mean: 0.68829, std: 0.01097, params: {'C': 0.1, 'class_weight': None},\n",
       " mean: 0.68847, std: 0.01077, params: {'C': 0.1, 'class_weight': 'balanced'},\n",
       " mean: 0.68572, std: 0.01209, params: {'C': 0.01, 'class_weight': None},\n",
       " mean: 0.68641, std: 0.01170, params: {'C': 0.01, 'class_weight': 'balanced'},\n",
       " mean: 0.65804, std: 0.01338, params: {'C': 0.001, 'class_weight': None},\n",
       " mean: 0.66780, std: 0.01426, params: {'C': 0.001, 'class_weight': 'balanced'},\n",
       " mean: 0.61872, std: 0.01134, params: {'C': 0.0001, 'class_weight': None},\n",
       " mean: 0.64736, std: 0.01509, params: {'C': 0.0001, 'class_weight': 'balanced'}]"
      ]
     },
     "execution_count": 20,
     "metadata": {},
     "output_type": "execute_result"
    }
   ],
   "source": [
    "# find best logistic regression parameters by GridSearch\n",
    "from sklearn import grid_search, cross_validation\n",
    "from sklearn.linear_model import LogisticRegression\n",
    "feature_set = X_train\n",
    "gs = grid_search.GridSearchCV(\n",
    "    estimator=LogisticRegression(),\n",
    "    param_grid={'C': [10**-i for i in range(-5, 5)], 'class_weight': [None, 'balanced']},\n",
    "    cv=cross_validation.StratifiedKFold(df1.Helpful,n_folds=10),\n",
    "    scoring='roc_auc'\n",
    ")\n",
    "\n",
    "gs.fit(X_train, df1.Helpful)\n",
    "gs.grid_scores_"
   ]
  },
  {
   "cell_type": "code",
   "execution_count": 37,
   "metadata": {},
   "outputs": [
    {
     "name": "stdout",
     "output_type": "stream",
     "text": [
      "[1 1 1 ..., 0 0 1]\n",
      "[[ 0.17830525  0.82169475]\n",
      " [ 0.16685294  0.83314706]\n",
      " [ 0.15155683  0.84844317]\n",
      " ..., \n",
      " [ 0.65353067  0.34646933]\n",
      " [ 0.69293445  0.30706555]\n",
      " [ 0.43930012  0.56069988]]\n"
     ]
    },
    {
     "data": {
      "text/plain": [
       "[<matplotlib.lines.Line2D at 0x122160198>]"
      ]
     },
     "execution_count": 37,
     "metadata": {},
     "output_type": "execute_result"
    },
    {
     "data": {
      "image/png": "[encoded data removed]",
      "text/plain": [
       "<matplotlib.figure.Figure at 0x11d649f28>"
      ]
     },
     "metadata": {},
     "output_type": "display_data"
    }
   ],
   "source": [
    "# plot ROC/AUC curve\n",
    "from sklearn.metrics import roc_auc_score, roc_curve\n",
    "actuals = gs.predict(feature_set) \n",
    "print(actuals)\n",
    "probas = gs.predict_proba(feature_set)\n",
    "print(probas)\n",
    "plt.plot(roc_curve(df1['Helpful'], probas[:,1])[0], roc_curve(df1['Helpful'], probas[:,1])[1])"
   ]
  },
  {
   "cell_type": "code",
   "execution_count": 53,
   "metadata": {},
   "outputs": [
    {
     "data": {
      "text/plain": [
       "0.69056302025917127"
      ]
     },
     "execution_count": 53,
     "metadata": {},
     "output_type": "execute_result"
    }
   ],
   "source": [
    "# ROC/AUC score\n",
    "y_score = probas\n",
    "test = np.array(list(df1.Helpful))\n",
    "test = test.reshape(52643,1)\n",
    "y_true = test\n",
    "\n",
    "roc_auc_score(y_true, y_score[:,1].T)"
   ]
  },
  {
   "cell_type": "markdown",
   "metadata": {},
   "source": [
    "## Kmeans"
   ]
  },
  {
   "cell_type": "code",
   "execution_count": 38,
   "metadata": {
    "collapsed": true
   },
   "outputs": [],
   "source": [
    "# Apply TfidfVectorizer to review text\n",
    "from sklearn.feature_extraction.text import TfidfVectorizer\n",
    "from sklearn.cluster import KMeans\n",
    "from sklearn import metrics"
   ]
  },
  {
   "cell_type": "code",
   "execution_count": 61,
   "metadata": {},
   "outputs": [],
   "source": [
    "# Create KMeans model with 4 clusters\n",
    "model = KMeans(n_clusters=4, init='k-means++', max_iter=100, n_init=1, random_state=5)\n",
    "\n",
    "# Using tf-idf to tokenize dataset\n",
    "vectorizer = TfidfVectorizer(min_df = 0.05, max_df=0.95,\n",
    "                             ngram_range=(1, 2), \n",
    "                             stop_words='english')\n",
    "X_train = vectorizer.fit_transform(df['Text'])"
   ]
  },
  {
   "cell_type": "code",
   "execution_count": 62,
   "metadata": {},
   "outputs": [
    {
     "name": "stdout",
     "output_type": "stream",
     "text": [
      "['actually', 'add', 'amazon', 'away', 'bad', 'bag', 'best', 'better', 'bit', 'bought', 'box', 'br', 'br br', 'brand', 'buy', 'buying', 'chocolate', 'coffee', 'company', 'cup', 'day', 'delicious', 'did', 'didnt', 'diet', 'different', 'does', 'doesnt', 'dog', 'dont', 'drink', 'eat', 'eating', 'enjoy', 'expensive', 'far', 'favorite', 'feel', 'flavor', 'flavors', 'food', 'foods', 'free', 'fresh', 'going', 'good', 'got', 'great', 'hard', 'health', 'healthy', 'high', 'hot', 'im', 'ingredients', 'ive', 'just', 'know', 'like', 'little', 'local', 'long', 'looking', 'lot', 'love', 'make', 'makes', 'milk', 'mix', 'money', 'natural', 'need', 'new', 'nice', 'oil', 'old', 'order', 'ordered', 'organic', 'package', 'people', 'price', 'product', 'products', 'purchased', 'quality', 'real', 'really', 'recommend', 'regular', 'review', 'right', 'said', 'say', 'shipping', 'small', 'store', 'stuff', 'sugar', 'sure', 'sweet', 'taste', 'tastes', 'tea', 'thats', 'thing', 'think', 'thought', 'time', 'tried', 'try', 'use', 'used', 'using', 'want', 'water', 'way', 'work', 'years']\n"
     ]
    }
   ],
   "source": [
    "# show the feature names\n",
    "vocab = vectorizer.get_feature_names()\n",
    "print(vocab)"
   ]
  },
  {
   "cell_type": "code",
   "execution_count": 64,
   "metadata": {},
   "outputs": [],
   "source": [
    "sse_err = []\n",
    "res = model.fit(X_train)\n",
    "vocab = np.array(vocab)\n",
    "cluster_centers = np.array(res.cluster_centers_)\n",
    "sorted_vals = [res.cluster_centers_[i].argsort() for i in range(0,np.shape(res.cluster_centers_)[0])]\n",
    "words = set()\n",
    "for i in range(len(res.cluster_centers_)):\n",
    "    words = words.union(set(vocab[sorted_vals[i][-10:]]))\n",
    "words = list(words)"
   ]
  },
  {
   "cell_type": "code",
   "execution_count": 65,
   "metadata": {},
   "outputs": [
    {
     "data": {
      "text/plain": [
       "['food',\n",
       " 'good',\n",
       " 'product',\n",
       " 'eat',\n",
       " 'foods',\n",
       " 'tea',\n",
       " 'dont',\n",
       " 'ingredients',\n",
       " 'just',\n",
       " 'like',\n",
       " 'drink',\n",
       " 'taste',\n",
       " 'amazon',\n",
       " 'br',\n",
       " 'buy',\n",
       " 'coffee',\n",
       " 'diet',\n",
       " 'great',\n",
       " 'flavor',\n",
       " 'dog',\n",
       " 'br br',\n",
       " 'cup',\n",
       " 'eating',\n",
       " 'use']"
      ]
     },
     "execution_count": 65,
     "metadata": {},
     "output_type": "execute_result"
    }
   ],
   "source": [
    "words"
   ]
  },
  {
   "cell_type": "code",
   "execution_count": 70,
   "metadata": {},
   "outputs": [
    {
     "name": "stdout",
     "output_type": "stream",
     "text": [
      "[40, 45, 82, 31, 41, 103, 29, 54, 56, 58, 30, 101, 2, 11, 14, 17, 24, 47, 38, 28, 12, 19, 32, 111]\n"
     ]
    }
   ],
   "source": [
    "# add top words to train set\n",
    "a = [np.argwhere(vocab==i)[0][0] for i in words]\n",
    "print(a)\n",
    "train_set = X_train[:,[np.argwhere(vocab==i)[0][0] for i in words]]"
   ]
  },
  {
   "cell_type": "code",
   "execution_count": 74,
   "metadata": {},
   "outputs": [
    {
     "data": {
      "text/html": [
       "<div>\n",
       "<style>\n",
       "    .dataframe thead tr:only-child th {\n",
       "        text-align: right;\n",
       "    }\n",
       "\n",
       "    .dataframe thead th {\n",
       "        text-align: left;\n",
       "    }\n",
       "\n",
       "    .dataframe tbody tr th {\n",
       "        vertical-align: top;\n",
       "    }\n",
       "</style>\n",
       "<table border=\"1\" class=\"dataframe\">\n",
       "  <thead>\n",
       "    <tr style=\"text-align: right;\">\n",
       "      <th></th>\n",
       "      <th>HelpfulnessNumerator</th>\n",
       "      <th>HelpfulnessDenominator</th>\n",
       "      <th>Score</th>\n",
       "      <th>Text</th>\n",
       "      <th>Helpful</th>\n",
       "    </tr>\n",
       "    <tr>\n",
       "      <th>cluster</th>\n",
       "      <th></th>\n",
       "      <th></th>\n",
       "      <th></th>\n",
       "      <th></th>\n",
       "      <th></th>\n",
       "    </tr>\n",
       "  </thead>\n",
       "  <tbody>\n",
       "    <tr>\n",
       "      <th>0</th>\n",
       "      <td>12811</td>\n",
       "      <td>12811</td>\n",
       "      <td>12811</td>\n",
       "      <td>12811</td>\n",
       "      <td>12811</td>\n",
       "    </tr>\n",
       "    <tr>\n",
       "      <th>1</th>\n",
       "      <td>4413</td>\n",
       "      <td>4413</td>\n",
       "      <td>4413</td>\n",
       "      <td>4413</td>\n",
       "      <td>4413</td>\n",
       "    </tr>\n",
       "    <tr>\n",
       "      <th>2</th>\n",
       "      <td>29016</td>\n",
       "      <td>29016</td>\n",
       "      <td>29016</td>\n",
       "      <td>29016</td>\n",
       "      <td>29016</td>\n",
       "    </tr>\n",
       "    <tr>\n",
       "      <th>3</th>\n",
       "      <td>6403</td>\n",
       "      <td>6403</td>\n",
       "      <td>6403</td>\n",
       "      <td>6403</td>\n",
       "      <td>6403</td>\n",
       "    </tr>\n",
       "  </tbody>\n",
       "</table>\n",
       "</div>"
      ],
      "text/plain": [
       "         HelpfulnessNumerator  HelpfulnessDenominator  Score   Text  Helpful\n",
       "cluster                                                                     \n",
       "0                       12811                   12811  12811  12811    12811\n",
       "1                        4413                    4413   4413   4413     4413\n",
       "2                       29016                   29016  29016  29016    29016\n",
       "3                        6403                    6403   6403   6403     6403"
      ]
     },
     "execution_count": 74,
     "metadata": {},
     "output_type": "execute_result"
    }
   ],
   "source": [
    "# how many observations are in each cluster\n",
    "df['cluster'] = model.labels_\n",
    "df.groupby('cluster').count()"
   ]
  },
  {
   "cell_type": "code",
   "execution_count": 75,
   "metadata": {},
   "outputs": [
    {
     "data": {
      "text/html": [
       "<div>\n",
       "<style>\n",
       "    .dataframe thead tr:only-child th {\n",
       "        text-align: right;\n",
       "    }\n",
       "\n",
       "    .dataframe thead th {\n",
       "        text-align: left;\n",
       "    }\n",
       "\n",
       "    .dataframe tbody tr th {\n",
       "        vertical-align: top;\n",
       "    }\n",
       "</style>\n",
       "<table border=\"1\" class=\"dataframe\">\n",
       "  <thead>\n",
       "    <tr style=\"text-align: right;\">\n",
       "      <th></th>\n",
       "      <th>HelpfulnessNumerator</th>\n",
       "      <th>HelpfulnessDenominator</th>\n",
       "      <th>Score</th>\n",
       "      <th>Helpful</th>\n",
       "    </tr>\n",
       "    <tr>\n",
       "      <th>cluster</th>\n",
       "      <th></th>\n",
       "      <th></th>\n",
       "      <th></th>\n",
       "      <th></th>\n",
       "    </tr>\n",
       "  </thead>\n",
       "  <tbody>\n",
       "    <tr>\n",
       "      <th>0</th>\n",
       "      <td>14.771603</td>\n",
       "      <td>17.959722</td>\n",
       "      <td>3.593787</td>\n",
       "      <td>0.825541</td>\n",
       "    </tr>\n",
       "    <tr>\n",
       "      <th>1</th>\n",
       "      <td>10.460911</td>\n",
       "      <td>13.461138</td>\n",
       "      <td>3.310900</td>\n",
       "      <td>0.789712</td>\n",
       "    </tr>\n",
       "    <tr>\n",
       "      <th>2</th>\n",
       "      <td>9.612903</td>\n",
       "      <td>12.777537</td>\n",
       "      <td>3.403329</td>\n",
       "      <td>0.768231</td>\n",
       "    </tr>\n",
       "    <tr>\n",
       "      <th>3</th>\n",
       "      <td>13.938154</td>\n",
       "      <td>16.319538</td>\n",
       "      <td>3.827737</td>\n",
       "      <td>0.825238</td>\n",
       "    </tr>\n",
       "  </tbody>\n",
       "</table>\n",
       "</div>"
      ],
      "text/plain": [
       "         HelpfulnessNumerator  HelpfulnessDenominator     Score   Helpful\n",
       "cluster                                                                  \n",
       "0                   14.771603               17.959722  3.593787  0.825541\n",
       "1                   10.460911               13.461138  3.310900  0.789712\n",
       "2                    9.612903               12.777537  3.403329  0.768231\n",
       "3                   13.938154               16.319538  3.827737  0.825238"
      ]
     },
     "execution_count": 75,
     "metadata": {},
     "output_type": "execute_result"
    }
   ],
   "source": [
    "# what does each cluster look like\n",
    "df.groupby('cluster').mean()"
   ]
  },
  {
   "cell_type": "code",
   "execution_count": 76,
   "metadata": {},
   "outputs": [
    {
     "data": {
      "text/html": [
       "<div>\n",
       "<style>\n",
       "    .dataframe thead tr:only-child th {\n",
       "        text-align: right;\n",
       "    }\n",
       "\n",
       "    .dataframe thead th {\n",
       "        text-align: left;\n",
       "    }\n",
       "\n",
       "    .dataframe tbody tr th {\n",
       "        vertical-align: top;\n",
       "    }\n",
       "</style>\n",
       "<table border=\"1\" class=\"dataframe\">\n",
       "  <thead>\n",
       "    <tr style=\"text-align: right;\">\n",
       "      <th></th>\n",
       "      <th>HelpfulnessNumerator</th>\n",
       "      <th>HelpfulnessDenominator</th>\n",
       "      <th>Score</th>\n",
       "      <th>Helpful</th>\n",
       "    </tr>\n",
       "  </thead>\n",
       "  <tbody>\n",
       "    <tr>\n",
       "      <th>HelpfulnessNumerator</th>\n",
       "      <td>1.000000</td>\n",
       "      <td>0.974445</td>\n",
       "      <td>0.105785</td>\n",
       "      <td>0.196062</td>\n",
       "    </tr>\n",
       "    <tr>\n",
       "      <th>HelpfulnessDenominator</th>\n",
       "      <td>0.974445</td>\n",
       "      <td>1.000000</td>\n",
       "      <td>0.012691</td>\n",
       "      <td>0.060754</td>\n",
       "    </tr>\n",
       "    <tr>\n",
       "      <th>Score</th>\n",
       "      <td>0.105785</td>\n",
       "      <td>0.012691</td>\n",
       "      <td>1.000000</td>\n",
       "      <td>0.458909</td>\n",
       "    </tr>\n",
       "    <tr>\n",
       "      <th>Helpful</th>\n",
       "      <td>0.196062</td>\n",
       "      <td>0.060754</td>\n",
       "      <td>0.458909</td>\n",
       "      <td>1.000000</td>\n",
       "    </tr>\n",
       "  </tbody>\n",
       "</table>\n",
       "</div>"
      ],
      "text/plain": [
       "                        HelpfulnessNumerator  HelpfulnessDenominator  \\\n",
       "HelpfulnessNumerator                1.000000                0.974445   \n",
       "HelpfulnessDenominator              0.974445                1.000000   \n",
       "Score                               0.105785                0.012691   \n",
       "Helpful                             0.196062                0.060754   \n",
       "\n",
       "                           Score   Helpful  \n",
       "HelpfulnessNumerator    0.105785  0.196062  \n",
       "HelpfulnessDenominator  0.012691  0.060754  \n",
       "Score                   1.000000  0.458909  \n",
       "Helpful                 0.458909  1.000000  "
      ]
     },
     "execution_count": 76,
     "metadata": {},
     "output_type": "execute_result"
    }
   ],
   "source": [
    "# correlation matrix\n",
    "df1.corr()"
   ]
  },
  {
   "cell_type": "code",
   "execution_count": 78,
   "metadata": {},
   "outputs": [
    {
     "data": {
      "text/plain": [
       "(52643, 24)"
      ]
     },
     "execution_count": 78,
     "metadata": {},
     "output_type": "execute_result"
    }
   ],
   "source": [
    "train_set.shape"
   ]
  },
  {
   "cell_type": "code",
   "execution_count": 93,
   "metadata": {},
   "outputs": [],
   "source": [
    "# add Score column to top words\n",
    "import scipy as scipy\n",
    "\n",
    "score = np.array(list(df1.Score))\n",
    "score = score.reshape(52643, 1)\n",
    "features = scipy.sparse.hstack((train_set, scipy.sparse.csr_matrix(score)))\n",
    "features = scipy.sparse.csr_matrix(features)\n"
   ]
  },
  {
   "cell_type": "code",
   "execution_count": 94,
   "metadata": {},
   "outputs": [
    {
     "data": {
      "text/plain": [
       "(52643, 25)"
      ]
     },
     "execution_count": 94,
     "metadata": {},
     "output_type": "execute_result"
    }
   ],
   "source": [
    "features.shape"
   ]
  },
  {
   "cell_type": "markdown",
   "metadata": {},
   "source": [
    "## Apply Kmeans to Logistic Regression"
   ]
  },
  {
   "cell_type": "code",
   "execution_count": 96,
   "metadata": {},
   "outputs": [
    {
     "data": {
      "text/plain": [
       "[mean: 0.81043, std: 0.01174, params: {'C': 100000, 'class_weight': None},\n",
       " mean: 0.81051, std: 0.01204, params: {'C': 100000, 'class_weight': 'balanced'},\n",
       " mean: 0.81043, std: 0.01174, params: {'C': 10000, 'class_weight': None},\n",
       " mean: 0.81051, std: 0.01203, params: {'C': 10000, 'class_weight': 'balanced'},\n",
       " mean: 0.81043, std: 0.01174, params: {'C': 1000, 'class_weight': None},\n",
       " mean: 0.81051, std: 0.01203, params: {'C': 1000, 'class_weight': 'balanced'},\n",
       " mean: 0.81042, std: 0.01174, params: {'C': 100, 'class_weight': None},\n",
       " mean: 0.81051, std: 0.01203, params: {'C': 100, 'class_weight': 'balanced'},\n",
       " mean: 0.81042, std: 0.01174, params: {'C': 10, 'class_weight': None},\n",
       " mean: 0.81050, std: 0.01204, params: {'C': 10, 'class_weight': 'balanced'},\n",
       " mean: 0.81036, std: 0.01174, params: {'C': 1, 'class_weight': None},\n",
       " mean: 0.81045, std: 0.01205, params: {'C': 1, 'class_weight': 'balanced'},\n",
       " mean: 0.80985, std: 0.01168, params: {'C': 0.1, 'class_weight': None},\n",
       " mean: 0.81010, std: 0.01196, params: {'C': 0.1, 'class_weight': 'balanced'},\n",
       " mean: 0.80793, std: 0.01144, params: {'C': 0.01, 'class_weight': None},\n",
       " mean: 0.80849, std: 0.01161, params: {'C': 0.01, 'class_weight': 'balanced'},\n",
       " mean: 0.80505, std: 0.01107, params: {'C': 0.001, 'class_weight': None},\n",
       " mean: 0.79999, std: 0.01059, params: {'C': 0.001, 'class_weight': 'balanced'},\n",
       " mean: 0.80545, std: 0.01148, params: {'C': 0.0001, 'class_weight': None},\n",
       " mean: 0.78997, std: 0.01058, params: {'C': 0.0001, 'class_weight': 'balanced'}]"
      ]
     },
     "execution_count": 96,
     "metadata": {},
     "output_type": "execute_result"
    }
   ],
   "source": [
    "#find best logistic regression parameters\n",
    "from sklearn import grid_search, cross_validation\n",
    "from sklearn.linear_model import LogisticRegression\n",
    "feature_set = features\n",
    "gs = grid_search.GridSearchCV(\n",
    "    estimator=LogisticRegression(),\n",
    "    param_grid={'C': [10**-i for i in range(-5, 5)], 'class_weight': [None, 'balanced']},\n",
    "    cv=cross_validation.StratifiedKFold(df.Helpful,n_folds=10),\n",
    "    scoring='roc_auc'\n",
    ")\n",
    "\n",
    "gs.fit(features, df1.Helpful)\n",
    "gs.grid_scores_"
   ]
  },
  {
   "cell_type": "code",
   "execution_count": 97,
   "metadata": {},
   "outputs": [
    {
     "data": {
      "text/plain": [
       "LogisticRegression(C=100000, class_weight='balanced', dual=False,\n",
       "          fit_intercept=True, intercept_scaling=1, max_iter=100,\n",
       "          multi_class='ovr', n_jobs=1, penalty='l2', random_state=None,\n",
       "          solver='liblinear', tol=0.0001, verbose=0, warm_start=False)"
      ]
     },
     "execution_count": 97,
     "metadata": {},
     "output_type": "execute_result"
    }
   ],
   "source": [
    "gs.best_estimator_"
   ]
  },
  {
   "cell_type": "code",
   "execution_count": 98,
   "metadata": {
    "collapsed": true
   },
   "outputs": [],
   "source": [
    "y_pred = gs.predict(feature_set)"
   ]
  },
  {
   "cell_type": "code",
   "execution_count": 99,
   "metadata": {},
   "outputs": [
    {
     "name": "stdout",
     "output_type": "stream",
     "text": [
      "[[ 0.57890784  0.11258013 -0.09563169 -0.08313037  1.05467436  0.15053164\n",
      "   0.03034607  0.89998761  0.56987609 -0.17800358 -0.19792877  0.22462176\n",
      "   0.82093373 -0.26977155 -0.01880412  0.2325562   0.50984961  1.12104695\n",
      "   1.13806913  0.51534551  1.80810436  0.94214757 -0.04491015  0.37812625\n",
      "   0.7185772 ]]\n",
      "[-2.42802663]\n"
     ]
    }
   ],
   "source": [
    "# Coefficients represent the log-odds\n",
    "print(gs.best_estimator_.coef_)\n",
    "print(gs.best_estimator_.intercept_)\n"
   ]
  },
  {
   "cell_type": "code",
   "execution_count": 100,
   "metadata": {},
   "outputs": [
    {
     "data": {
      "text/plain": [
       "[<matplotlib.lines.Line2D at 0x123fa0da0>]"
      ]
     },
     "execution_count": 100,
     "metadata": {},
     "output_type": "execute_result"
    },
    {
     "data": {
      "image/png": "[encoded data removed]",
      "text/plain": [
       "<matplotlib.figure.Figure at 0x1247077b8>"
      ]
     },
     "metadata": {},
     "output_type": "display_data"
    }
   ],
   "source": [
    "# roc curve\n",
    "from sklearn.metrics import roc_auc_score, roc_curve\n",
    "actuals = gs.predict(feature_set) \n",
    "probas = gs.predict_proba(feature_set)\n",
    "plt.plot(roc_curve(df[['Helpful']], probas[:,1])[0], roc_curve(df[['Helpful']], probas[:,1])[1])"
   ]
  },
  {
   "cell_type": "code",
   "execution_count": 101,
   "metadata": {},
   "outputs": [
    {
     "data": {
      "text/plain": [
       "0.81179656431003488"
      ]
     },
     "execution_count": 101,
     "metadata": {},
     "output_type": "execute_result"
    }
   ],
   "source": [
    "# roc auc score\n",
    "y_score = probas\n",
    "test = np.array(list(df.Helpful))\n",
    "test = test.reshape(52643,1)\n",
    "y_true = test\n",
    "\n",
    "roc_auc_score(y_true, y_score[:,1].T)"
   ]
  },
  {
   "cell_type": "code",
   "execution_count": 102,
   "metadata": {},
   "outputs": [
    {
     "name": "stdout",
     "output_type": "stream",
     "text": [
      "Confusion matrix, without normalization\n",
      "[[ 8630  2377]\n",
      " [10574 31062]]\n",
      "Normalized confusion matrix\n",
      "[[ 0.78  0.22]\n",
      " [ 0.25  0.75]]\n"
     ]
    },
    {
     "data": {
      "image/png": "[encoded data removed]",
      "text/plain": [
       "<matplotlib.figure.Figure at 0x121056048>"
      ]
     },
     "metadata": {},
     "output_type": "display_data"
    },
    {
     "data": {
      "image/png": "[encoded data removed]",
      "text/plain": [
       "<matplotlib.figure.Figure at 0x143826e48>"
      ]
     },
     "metadata": {},
     "output_type": "display_data"
    }
   ],
   "source": [
    "# plot a confusion matrix\n",
    "from sklearn.metrics import confusion_matrix\n",
    "def plot_confusion_matrix(cm, title='Confusion matrix', cmap=plt.cm.Blues):\n",
    "    plt.imshow(cm, interpolation='nearest', cmap=cmap)\n",
    "    plt.title(title)\n",
    "    plt.colorbar()\n",
    "    plt.tight_layout()\n",
    "    plt.ylabel('True Helpfulness')\n",
    "    plt.xlabel('Predicted Helpfulness')\n",
    "\n",
    "\n",
    "# Compute confusion matrix\n",
    "cm = confusion_matrix(y_true, y_pred)\n",
    "np.set_printoptions(precision=2)\n",
    "print('Confusion matrix, without normalization')\n",
    "print(cm)\n",
    "plt.figure()\n",
    "plot_confusion_matrix(cm)\n",
    "\n",
    "# Normalize the confusion matrix by row (i.e by the number of samples\n",
    "# in each class)\n",
    "cm_normalized = cm.astype('float') / cm.sum(axis=1)[:, np.newaxis]\n",
    "print('Normalized confusion matrix')\n",
    "print(cm_normalized)\n",
    "plt.figure()\n",
    "plot_confusion_matrix(cm_normalized, title='Normalized confusion matrix')\n",
    "\n",
    "plt.show()"
   ]
  },
  {
   "cell_type": "code",
   "execution_count": 103,
   "metadata": {},
   "outputs": [
    {
     "data": {
      "text/plain": [
       "[('br', -0.2697715489545332),\n",
       " ('drink', -0.19792876678177138),\n",
       " ('like', -0.17800357504724437),\n",
       " ('product', -0.095631694558383398),\n",
       " ('eat', -0.083130369790136743),\n",
       " ('eating', -0.044910148653301236),\n",
       " ('buy', -0.018804122027177253),\n",
       " ('dont', 0.03034606917033442),\n",
       " ('good', 0.11258013256027855),\n",
       " ('tea', 0.15053163687727128),\n",
       " ('taste', 0.22462175869212006),\n",
       " ('coffee', 0.23255619562539698),\n",
       " ('use', 0.37812625188671156),\n",
       " ('diet', 0.50984960822974645),\n",
       " ('dog', 0.51534550859009509),\n",
       " ('just', 0.56987609465945688),\n",
       " ('food', 0.57890783530831635),\n",
       " ('score', 0.71857720281287052),\n",
       " ('amazon', 0.82093373313531615),\n",
       " ('ingredients', 0.89998760873976402),\n",
       " ('cup', 0.94214757247455017),\n",
       " ('foods', 1.0546743619849539),\n",
       " ('great', 1.1210469517800834),\n",
       " ('flavor', 1.1380691344727401),\n",
       " ('br br', 1.8081043627321429)]"
      ]
     },
     "execution_count": 103,
     "metadata": {},
     "output_type": "execute_result"
    }
   ],
   "source": [
    "# view top parameters\n",
    "words.extend(['score'])\n",
    "sorted(zip(words,gs.best_estimator_.coef_[0]),key=lambda x:x[1])"
   ]
  },
  {
   "cell_type": "markdown",
   "metadata": {},
   "source": [
    "*------------------------\n",
    "\n",
    "### Problem 4: Prepare a 90 second Pitch and *present* it in the class (20 points)\n",
    "\n",
    "* Prepare the slide(s) for the Pitch (10 points)\n",
    "* Present it in the class (10 points).\n",
    "\n",
    "*Advice:  It should really only be one or two slides, but a really good one or two slides!  Also, it is ok to select one person on the team to give the 90 second pitch (though a very organized multi-person 90 second pitch can be very impressive!) *\n",
    "\n"
   ]
  },
  {
   "cell_type": "markdown",
   "metadata": {},
   "source": [
    "# Report: communicate the results (20 points)\n",
    "\n",
    "(1) (5 points) What is your business proposition?\n",
    "\n",
    "(2) (5 points) Why this topic is interesting or important to you? (Motivations)\n",
    "\n",
    "(3) (5 points) How did you analyse the data?\n",
    "\n",
    "(4) (5 points) How does your analysis support your business proposition?\n",
    "(please include figures or tables in the report, but no source code)"
   ]
  },
  {
   "cell_type": "markdown",
   "metadata": {},
   "source": [
    "# Slides (for 10 minutes of presentation) (20 points)\n",
    "\n",
    "\n",
    "1. (5 points) Motivation about the data collection, why the topic is interesting to you. \n",
    "\n",
    "2. (10 points) Communicating Results (figure/table)\n",
    "\n",
    "3. (5 points) Story telling (How all the parts (data, analysis, result) fit together as a story?)"
   ]
  },
  {
   "cell_type": "markdown",
   "metadata": {},
   "source": [
    "*-----------------\n",
    "# Done\n",
    "\n",
    "All set! \n",
    "\n",
    "** What do you need to submit?**\n",
    "\n",
    "* **Notebook File**: Save this IPython notebook, and find the notebook file in your folder (for example, \"filename.ipynb\"). This is the file you need to submit. Please make sure all the plotted tables and figures are in the notebook. If you used \"ipython notebook --pylab=inline\" to open the notebook, all the figures and tables should have shown up in the notebook.\n",
    "\n",
    "\n",
    "* **PPT Slides**: **NOTE, for this Case Study you need to prepare two (2) PPT files!**  One for the 90 second Pitch and one for a normal 10 minute presentation.\n",
    "\n",
    "* ** Report**: please prepare a report (less than 10 pages) to report what you found in the data.\n",
    "\n",
    "     (please include figures or tables in the report, **but no source code**)\n",
    "\n",
    "*Please compress all the files into a single zipped file.*\n",
    "\n",
    "\n",
    "** How to submit: **\n",
    "\n",
    "        Please submit through email to Prof. Paffenroth (rcpaffenroth@wpi.edu) *and* the TA Yingnan Liu (yliu18@wpi.edu).\n",
    "\n",
    "#### We auto-process the submissions so make sure your subject line is *exactly*:\n",
    "\n",
    "### DS501 Case Study 4 Team ??\n",
    "\n",
    "#### where ?? is your team number.\n",
    "        \n",
    "** Note: Each team just needs to submits one submission **"
   ]
  },
  {
   "cell_type": "markdown",
   "metadata": {
    "collapsed": true
   },
   "source": [
    "## Team 11\n",
    "<b>Yen-Chang Hsieh, Zhenyu Hu, Ruochen Shi, Mengdi Li, Rui Li</b>"
   ]
  },
  {
   "cell_type": "code",
   "execution_count": null,
   "metadata": {
    "collapsed": true
   },
   "outputs": [],
   "source": []
  }
 ],
 "metadata": {
  "kernelspec": {
   "display_name": "Python 3",
   "language": "python",
   "name": "python3"
  },
  "language_info": {
   "codemirror_mode": {
    "name": "ipython",
    "version": 3
   },
   "file_extension": ".py",
   "mimetype": "text/x-python",
   "name": "python",
   "nbconvert_exporter": "python",
   "pygments_lexer": "ipython3",
   "version": "3.6.2"
  }
 },
 "nbformat": 4,
 "nbformat_minor": 1
}
